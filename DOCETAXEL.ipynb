{
 "cells": [
  {
   "cell_type": "code",
   "execution_count": 1,
   "id": "c02eceaa",
   "metadata": {},
   "outputs": [],
   "source": [
    "import pandas as pd\n",
    "import seaborn as sns\n",
    "import matplotlib.pyplot as plt\n",
    "import numpy as np\n",
    "from sklearn import svm\n",
    "from sklearn.model_selection import train_test_split, LeaveOneOut, KFold,cross_validate, cross_val_score, StratifiedKFold\n",
    "from sklearn.metrics import accuracy_score, classification_report\n",
    "from sklearn.feature_selection import SequentialFeatureSelector as SFS\n",
    "from sklearn.feature_selection import RFECV\n",
    "from sklearn.ensemble import RandomForestClassifier\n",
    "import warnings\n",
    "warnings.filterwarnings(\"ignore\")"
   ]
  },
  {
   "cell_type": "code",
   "execution_count": 2,
   "id": "1be8e93c",
   "metadata": {},
   "outputs": [],
   "source": [
    "#merging all the required datasets - metabolomics dataset, drug response dataset and the metadata of the cell lines\n",
    "\n",
    "data = pd.read_excel(\"D:\\\\GaTech\\\\Fall Sem\\\\BIOL 8901\\\\Metabolomic Project\\\\metabolomic_data.xlsx\", sheet_name=\"1-clean data\")\n",
    "data.rename(columns = {'Unnamed: 0': 'ID'}, inplace = True)\n",
    "last_column = data.iloc[:,-1].name\n",
    "sample = pd.read_csv(\"D:\\\\GaTech\\\\Fall Sem\\\\BIOL 8901\\\\sample_info.csv\")\n",
    "sample.rename(columns = {'CCLE_Name':'ID'}, inplace=True)\n",
    "merged_data = data.merge(sample, on='ID')\n",
    "drug = pd.read_csv('D:\\\\GaTech\\\\Fall Sem\\\\BIOL 8901\\\\sanger-dose-response.csv')\n",
    "drug.rename(columns={'ARXSPAN_ID':'DepMap_ID'}, inplace = True)\n",
    "working_data = merged_data.merge(drug, on='DepMap_ID')"
   ]
  },
  {
   "cell_type": "code",
   "execution_count": 3,
   "id": "eeba1e3e",
   "metadata": {},
   "outputs": [],
   "source": [
    "#since our data has a lot of NaN's in them, we can fill them using 0 (for now, just for a workaround)\n",
    "\n",
    "working_data.fillna(0, inplace=True)"
   ]
  },
  {
   "cell_type": "code",
   "execution_count": 4,
   "id": "0d0d7a6d",
   "metadata": {},
   "outputs": [],
   "source": [
    "X1 = working_data.loc[working_data['DRUG_NAME'] == 'DOCETAXEL']"
   ]
  },
  {
   "cell_type": "code",
   "execution_count": 5,
   "id": "444455ef",
   "metadata": {},
   "outputs": [
    {
     "data": {
      "text/plain": [
       "(1596, 270)"
      ]
     },
     "execution_count": 5,
     "metadata": {},
     "output_type": "execute_result"
    }
   ],
   "source": [
    "X1.shape"
   ]
  },
  {
   "cell_type": "code",
   "execution_count": 6,
   "id": "03e8fedc",
   "metadata": {},
   "outputs": [],
   "source": [
    "'''\n",
    "reset the index as once we take a subset of the main working_dataset, the indexes will get mixed up.\n",
    "thus the indices need to be reset before we start working on the model\n",
    "'''\n",
    "\n",
    "X1.reset_index(inplace=True)"
   ]
  },
  {
   "cell_type": "code",
   "execution_count": 7,
   "id": "4dff3f65",
   "metadata": {},
   "outputs": [
    {
     "data": {
      "text/plain": [
       "1007    1133\n",
       "1819     463\n",
       "Name: DRUG_ID, dtype: int64"
      ]
     },
     "execution_count": 7,
     "metadata": {},
     "output_type": "execute_result"
    }
   ],
   "source": [
    "X1['DRUG_ID'].value_counts()"
   ]
  },
  {
   "cell_type": "code",
   "execution_count": 8,
   "id": "80f0699f",
   "metadata": {},
   "outputs": [],
   "source": [
    "X_ = X1[~X1.duplicated(['DepMap_ID'], keep=False) | X1['DATASET'].eq('GDSC2')]"
   ]
  },
  {
   "cell_type": "code",
   "execution_count": 9,
   "id": "7b567024",
   "metadata": {},
   "outputs": [
    {
     "data": {
      "text/plain": [
       "1007    600\n",
       "1819    463\n",
       "Name: DRUG_ID, dtype: int64"
      ]
     },
     "execution_count": 9,
     "metadata": {},
     "output_type": "execute_result"
    }
   ],
   "source": [
    "X_['DRUG_ID'].value_counts()"
   ]
  },
  {
   "cell_type": "code",
   "execution_count": 10,
   "id": "99e013da",
   "metadata": {},
   "outputs": [],
   "source": [
    "X1007 = X_.loc[X_['DRUG_ID']==1007]\n",
    "X1819 = X_.loc[X_['DRUG_ID']==1819]"
   ]
  },
  {
   "cell_type": "code",
   "execution_count": 11,
   "id": "d9861632",
   "metadata": {},
   "outputs": [
    {
     "data": {
      "text/plain": [
       "((600, 271), (463, 271))"
      ]
     },
     "execution_count": 11,
     "metadata": {},
     "output_type": "execute_result"
    }
   ],
   "source": [
    "X1007.shape, X1819.shape"
   ]
  },
  {
   "cell_type": "code",
   "execution_count": 12,
   "id": "0a641214",
   "metadata": {},
   "outputs": [],
   "source": [
    "X1007.reset_index(inplace=True)\n",
    "X1819.reset_index(inplace=True)"
   ]
  },
  {
   "cell_type": "code",
   "execution_count": 13,
   "id": "7bf60b05",
   "metadata": {},
   "outputs": [],
   "source": [
    "X1007 = X1007.select_dtypes('float64')\n",
    "X1819 = X1819.select_dtypes('float64')"
   ]
  },
  {
   "cell_type": "code",
   "execution_count": 14,
   "id": "10218157",
   "metadata": {},
   "outputs": [],
   "source": [
    "X1007.reset_index(inplace=True)\n",
    "X1819.reset_index(inplace=True)"
   ]
  },
  {
   "cell_type": "code",
   "execution_count": 15,
   "id": "3ba0c088",
   "metadata": {},
   "outputs": [],
   "source": [
    "X1007.drop(columns = ['index'], inplace=True)\n",
    "X1819.drop(columns = ['index'], inplace=True)"
   ]
  },
  {
   "cell_type": "code",
   "execution_count": 16,
   "id": "44f791cb",
   "metadata": {},
   "outputs": [],
   "source": [
    "#now we are going to normalize the dataframe\n",
    "#normalization means bringing each value in a column in the range of [-1,1]\n",
    "#calculate the minimum value of each column\n",
    "#calculate the maximum value of each column\n",
    "#calculate the range by subtracting the max and min of each column\n",
    "#find the scaled value for each value in a column\n",
    "\n",
    "#normalize the X1007 dataframe\n",
    "\n",
    "X1007_min = X1007.min()\n",
    "X1007_max = X1007.max()\n",
    "X1007_range = X1007_max - X1007_min\n",
    "X1007_scaled = (X1007 - X1007_min)/(X1007_range)\n",
    "\n",
    "#normalize the X1819 dataframe\n",
    "\n",
    "X1819_min = X1819.min()\n",
    "X1819_max = X1819.max()\n",
    "X1819_range = X1819_max - X1819_min\n",
    "X1819_scaled = (X1819 - X1819_min)/(X1819_range)"
   ]
  },
  {
   "cell_type": "code",
   "execution_count": 17,
   "id": "86d975d9",
   "metadata": {},
   "outputs": [
    {
     "data": {
      "text/plain": [
       "((600, 244), (463, 244))"
      ]
     },
     "execution_count": 17,
     "metadata": {},
     "output_type": "execute_result"
    }
   ],
   "source": [
    "X1007_scaled.shape, X1819.shape"
   ]
  },
  {
   "cell_type": "code",
   "execution_count": 18,
   "id": "a2312cd8",
   "metadata": {},
   "outputs": [
    {
     "name": "stdout",
     "output_type": "stream",
     "text": [
      "0.013483973777142928\n"
     ]
    }
   ],
   "source": [
    "#calculate the mean of the IC50_published datarfame\n",
    "#this will allow us to create labels as IC50 values are the drug response values\n",
    "\n",
    "drug_mean_1007 = X1007_scaled['IC50_PUBLISHED'].mean()\n",
    "print(drug_mean_1007)"
   ]
  },
  {
   "cell_type": "code",
   "execution_count": 19,
   "id": "eb740133",
   "metadata": {},
   "outputs": [],
   "source": [
    "ic_1007, labels_1007 = X1007_scaled['IC50_PUBLISHED'], []\n",
    "for i in range(len(ic_1007)):\n",
    "    if ic_1007[i] > drug_mean_1007:\n",
    "        labels_1007.append(\"R\")\n",
    "    else:\n",
    "        labels_1007.append(\"NR\")\n",
    "        \n",
    "y_1007 = pd.Series(labels_1007)"
   ]
  },
  {
   "cell_type": "code",
   "execution_count": 20,
   "id": "c7fd6723",
   "metadata": {},
   "outputs": [
    {
     "data": {
      "text/plain": [
       "((600, 244), (600,))"
      ]
     },
     "execution_count": 20,
     "metadata": {},
     "output_type": "execute_result"
    }
   ],
   "source": [
    "X1007_scaled.shape, y_1007.shape"
   ]
  },
  {
   "cell_type": "code",
   "execution_count": 21,
   "id": "66f3f641",
   "metadata": {},
   "outputs": [
    {
     "data": {
      "text/plain": [
       "(600, 225)"
      ]
     },
     "execution_count": 21,
     "metadata": {},
     "output_type": "execute_result"
    }
   ],
   "source": [
    "#select the metabolites ONLY, drop the drug response values\n",
    "\n",
    "X_1007 = X1007_scaled.iloc[:, :225]\n",
    "X_1007.shape"
   ]
  },
  {
   "cell_type": "code",
   "execution_count": 22,
   "id": "85be00ea",
   "metadata": {},
   "outputs": [],
   "source": [
    "#calculate the correlation matrix of the metabolite dataframe\n",
    "#choose the upper triangle of the correlation matrix\n",
    "#create a list of features where the correlation value is >0.90\n",
    "#this list contains the highly correlated features, which will be removed from the dataset\n",
    "\n",
    "\n",
    "corr_matrix_1007 = X_1007.corr().abs()\n",
    "upper_1007 = corr_matrix_1007.where(np.triu(np.ones(corr_matrix_1007.shape), k=1).astype(np.bool))\n",
    "to_drop_1007 = [column for column in upper_1007.columns if any(upper_1007[column]>0.90)]"
   ]
  },
  {
   "cell_type": "code",
   "execution_count": 23,
   "id": "3e125470",
   "metadata": {},
   "outputs": [
    {
     "data": {
      "text/plain": [
       "22"
      ]
     },
     "execution_count": 23,
     "metadata": {},
     "output_type": "execute_result"
    }
   ],
   "source": [
    "len(to_drop_1007)"
   ]
  },
  {
   "cell_type": "code",
   "execution_count": 24,
   "id": "412e8006",
   "metadata": {},
   "outputs": [],
   "source": [
    "X_1007.drop(to_drop_1007, axis=1, inplace=True)"
   ]
  },
  {
   "cell_type": "code",
   "execution_count": 25,
   "id": "fd94160c",
   "metadata": {},
   "outputs": [
    {
     "data": {
      "text/plain": [
       "((600, 203), (600,))"
      ]
     },
     "execution_count": 25,
     "metadata": {},
     "output_type": "execute_result"
    }
   ],
   "source": [
    "X_1007.shape, y_1007.shape"
   ]
  },
  {
   "cell_type": "code",
   "execution_count": 26,
   "id": "03692a12",
   "metadata": {},
   "outputs": [],
   "source": [
    "#run the RFECV model with estimator being Random Forest and StratifiedKFold cross validation with 5 folds.\n",
    "\n",
    "rfecv = RFECV(estimator = RandomForestClassifier(random_state=101), step=1, cv=StratifiedKFold(5), scoring='accuracy')"
   ]
  },
  {
   "cell_type": "code",
   "execution_count": 27,
   "id": "f3ebeffd",
   "metadata": {},
   "outputs": [
    {
     "data": {
      "text/plain": [
       "RFECV(cv=StratifiedKFold(n_splits=5, random_state=None, shuffle=False),\n",
       "      estimator=RandomForestClassifier(random_state=101), scoring='accuracy')"
      ]
     },
     "execution_count": 27,
     "metadata": {},
     "output_type": "execute_result"
    }
   ],
   "source": [
    "#fit the X,y to the RFECV model\n",
    "\n",
    "rfecv.fit(X_1007, y_1007)"
   ]
  },
  {
   "cell_type": "code",
   "execution_count": 28,
   "id": "b71d5893",
   "metadata": {},
   "outputs": [
    {
     "data": {
      "text/plain": [
       "48"
      ]
     },
     "execution_count": 28,
     "metadata": {},
     "output_type": "execute_result"
    }
   ],
   "source": [
    "selected_features = rfecv.get_support(1)\n",
    "len(selected_features)"
   ]
  },
  {
   "cell_type": "code",
   "execution_count": 29,
   "id": "065f8952",
   "metadata": {},
   "outputs": [
    {
     "data": {
      "text/plain": [
       "(600, 48)"
      ]
     },
     "execution_count": 29,
     "metadata": {},
     "output_type": "execute_result"
    }
   ],
   "source": [
    "D1 = X_1007[X_1007.columns[selected_features]]\n",
    "D1.shape"
   ]
  },
  {
   "cell_type": "code",
   "execution_count": 30,
   "id": "4aaa1143",
   "metadata": {},
   "outputs": [],
   "source": [
    "#using classification_report metrics, run a prediction model using StratifiedKFold cross_validation with k=5 folds\n",
    "#model being used as the classifier is Random Forest\n",
    "\n",
    "kf1 = StratifiedKFold(n_splits = 5, shuffle = False)\n",
    "model = RandomForestClassifier()\n",
    "i = 1\n",
    "dfs = []\n",
    "for train_index, test_index in kf1.split(D1, y_1007):\n",
    "    X_train, X_test = D1.iloc[train_index], D1.iloc[test_index]\n",
    "    y_train, y_test = y_1007.iloc[train_index], y_1007.iloc[test_index]\n",
    "    model.fit(X_train, y_train)\n",
    "    predicted = model.predict(X_test)\n",
    "    report = classification_report(y_test, predicted, output_dict = True)\n",
    "    df = pd.DataFrame(report).transpose()\n",
    "    dfs.append(df)\n",
    "    i+=1\n",
    "results_df = pd.concat(dfs)\n",
    "results_df.to_csv(\"DOCETAXEL_1007_results.tsv\", sep=\"\\t\")"
   ]
  },
  {
   "cell_type": "code",
   "execution_count": 31,
   "id": "3f9b4afd",
   "metadata": {},
   "outputs": [
    {
     "data": {
      "text/html": [
       "<div>\n",
       "<style scoped>\n",
       "    .dataframe tbody tr th:only-of-type {\n",
       "        vertical-align: middle;\n",
       "    }\n",
       "\n",
       "    .dataframe tbody tr th {\n",
       "        vertical-align: top;\n",
       "    }\n",
       "\n",
       "    .dataframe thead th {\n",
       "        text-align: right;\n",
       "    }\n",
       "</style>\n",
       "<table border=\"1\" class=\"dataframe\">\n",
       "  <thead>\n",
       "    <tr style=\"text-align: right;\">\n",
       "      <th></th>\n",
       "      <th>precision</th>\n",
       "      <th>recall</th>\n",
       "      <th>f1-score</th>\n",
       "      <th>support</th>\n",
       "    </tr>\n",
       "  </thead>\n",
       "  <tbody>\n",
       "    <tr>\n",
       "      <th>NR</th>\n",
       "      <td>0.841667</td>\n",
       "      <td>1.000000</td>\n",
       "      <td>0.914027</td>\n",
       "      <td>101.000000</td>\n",
       "    </tr>\n",
       "    <tr>\n",
       "      <th>R</th>\n",
       "      <td>0.000000</td>\n",
       "      <td>0.000000</td>\n",
       "      <td>0.000000</td>\n",
       "      <td>19.000000</td>\n",
       "    </tr>\n",
       "    <tr>\n",
       "      <th>accuracy</th>\n",
       "      <td>0.841667</td>\n",
       "      <td>0.841667</td>\n",
       "      <td>0.841667</td>\n",
       "      <td>0.841667</td>\n",
       "    </tr>\n",
       "    <tr>\n",
       "      <th>macro avg</th>\n",
       "      <td>0.420833</td>\n",
       "      <td>0.500000</td>\n",
       "      <td>0.457014</td>\n",
       "      <td>120.000000</td>\n",
       "    </tr>\n",
       "    <tr>\n",
       "      <th>weighted avg</th>\n",
       "      <td>0.708403</td>\n",
       "      <td>0.841667</td>\n",
       "      <td>0.769306</td>\n",
       "      <td>120.000000</td>\n",
       "    </tr>\n",
       "    <tr>\n",
       "      <th>NR</th>\n",
       "      <td>0.848739</td>\n",
       "      <td>0.990196</td>\n",
       "      <td>0.914027</td>\n",
       "      <td>102.000000</td>\n",
       "    </tr>\n",
       "    <tr>\n",
       "      <th>R</th>\n",
       "      <td>0.000000</td>\n",
       "      <td>0.000000</td>\n",
       "      <td>0.000000</td>\n",
       "      <td>18.000000</td>\n",
       "    </tr>\n",
       "    <tr>\n",
       "      <th>accuracy</th>\n",
       "      <td>0.841667</td>\n",
       "      <td>0.841667</td>\n",
       "      <td>0.841667</td>\n",
       "      <td>0.841667</td>\n",
       "    </tr>\n",
       "    <tr>\n",
       "      <th>macro avg</th>\n",
       "      <td>0.424370</td>\n",
       "      <td>0.495098</td>\n",
       "      <td>0.457014</td>\n",
       "      <td>120.000000</td>\n",
       "    </tr>\n",
       "    <tr>\n",
       "      <th>weighted avg</th>\n",
       "      <td>0.721429</td>\n",
       "      <td>0.841667</td>\n",
       "      <td>0.776923</td>\n",
       "      <td>120.000000</td>\n",
       "    </tr>\n",
       "    <tr>\n",
       "      <th>NR</th>\n",
       "      <td>0.850000</td>\n",
       "      <td>1.000000</td>\n",
       "      <td>0.918919</td>\n",
       "      <td>102.000000</td>\n",
       "    </tr>\n",
       "    <tr>\n",
       "      <th>R</th>\n",
       "      <td>0.000000</td>\n",
       "      <td>0.000000</td>\n",
       "      <td>0.000000</td>\n",
       "      <td>18.000000</td>\n",
       "    </tr>\n",
       "    <tr>\n",
       "      <th>accuracy</th>\n",
       "      <td>0.850000</td>\n",
       "      <td>0.850000</td>\n",
       "      <td>0.850000</td>\n",
       "      <td>0.850000</td>\n",
       "    </tr>\n",
       "    <tr>\n",
       "      <th>macro avg</th>\n",
       "      <td>0.425000</td>\n",
       "      <td>0.500000</td>\n",
       "      <td>0.459459</td>\n",
       "      <td>120.000000</td>\n",
       "    </tr>\n",
       "    <tr>\n",
       "      <th>weighted avg</th>\n",
       "      <td>0.722500</td>\n",
       "      <td>0.850000</td>\n",
       "      <td>0.781081</td>\n",
       "      <td>120.000000</td>\n",
       "    </tr>\n",
       "    <tr>\n",
       "      <th>NR</th>\n",
       "      <td>0.855932</td>\n",
       "      <td>0.990196</td>\n",
       "      <td>0.918182</td>\n",
       "      <td>102.000000</td>\n",
       "    </tr>\n",
       "    <tr>\n",
       "      <th>R</th>\n",
       "      <td>0.500000</td>\n",
       "      <td>0.055556</td>\n",
       "      <td>0.100000</td>\n",
       "      <td>18.000000</td>\n",
       "    </tr>\n",
       "    <tr>\n",
       "      <th>accuracy</th>\n",
       "      <td>0.850000</td>\n",
       "      <td>0.850000</td>\n",
       "      <td>0.850000</td>\n",
       "      <td>0.850000</td>\n",
       "    </tr>\n",
       "    <tr>\n",
       "      <th>macro avg</th>\n",
       "      <td>0.677966</td>\n",
       "      <td>0.522876</td>\n",
       "      <td>0.509091</td>\n",
       "      <td>120.000000</td>\n",
       "    </tr>\n",
       "    <tr>\n",
       "      <th>weighted avg</th>\n",
       "      <td>0.802542</td>\n",
       "      <td>0.850000</td>\n",
       "      <td>0.795455</td>\n",
       "      <td>120.000000</td>\n",
       "    </tr>\n",
       "    <tr>\n",
       "      <th>NR</th>\n",
       "      <td>0.848739</td>\n",
       "      <td>0.990196</td>\n",
       "      <td>0.914027</td>\n",
       "      <td>102.000000</td>\n",
       "    </tr>\n",
       "    <tr>\n",
       "      <th>R</th>\n",
       "      <td>0.000000</td>\n",
       "      <td>0.000000</td>\n",
       "      <td>0.000000</td>\n",
       "      <td>18.000000</td>\n",
       "    </tr>\n",
       "    <tr>\n",
       "      <th>accuracy</th>\n",
       "      <td>0.841667</td>\n",
       "      <td>0.841667</td>\n",
       "      <td>0.841667</td>\n",
       "      <td>0.841667</td>\n",
       "    </tr>\n",
       "    <tr>\n",
       "      <th>macro avg</th>\n",
       "      <td>0.424370</td>\n",
       "      <td>0.495098</td>\n",
       "      <td>0.457014</td>\n",
       "      <td>120.000000</td>\n",
       "    </tr>\n",
       "    <tr>\n",
       "      <th>weighted avg</th>\n",
       "      <td>0.721429</td>\n",
       "      <td>0.841667</td>\n",
       "      <td>0.776923</td>\n",
       "      <td>120.000000</td>\n",
       "    </tr>\n",
       "  </tbody>\n",
       "</table>\n",
       "</div>"
      ],
      "text/plain": [
       "              precision    recall  f1-score     support\n",
       "NR             0.841667  1.000000  0.914027  101.000000\n",
       "R              0.000000  0.000000  0.000000   19.000000\n",
       "accuracy       0.841667  0.841667  0.841667    0.841667\n",
       "macro avg      0.420833  0.500000  0.457014  120.000000\n",
       "weighted avg   0.708403  0.841667  0.769306  120.000000\n",
       "NR             0.848739  0.990196  0.914027  102.000000\n",
       "R              0.000000  0.000000  0.000000   18.000000\n",
       "accuracy       0.841667  0.841667  0.841667    0.841667\n",
       "macro avg      0.424370  0.495098  0.457014  120.000000\n",
       "weighted avg   0.721429  0.841667  0.776923  120.000000\n",
       "NR             0.850000  1.000000  0.918919  102.000000\n",
       "R              0.000000  0.000000  0.000000   18.000000\n",
       "accuracy       0.850000  0.850000  0.850000    0.850000\n",
       "macro avg      0.425000  0.500000  0.459459  120.000000\n",
       "weighted avg   0.722500  0.850000  0.781081  120.000000\n",
       "NR             0.855932  0.990196  0.918182  102.000000\n",
       "R              0.500000  0.055556  0.100000   18.000000\n",
       "accuracy       0.850000  0.850000  0.850000    0.850000\n",
       "macro avg      0.677966  0.522876  0.509091  120.000000\n",
       "weighted avg   0.802542  0.850000  0.795455  120.000000\n",
       "NR             0.848739  0.990196  0.914027  102.000000\n",
       "R              0.000000  0.000000  0.000000   18.000000\n",
       "accuracy       0.841667  0.841667  0.841667    0.841667\n",
       "macro avg      0.424370  0.495098  0.457014  120.000000\n",
       "weighted avg   0.721429  0.841667  0.776923  120.000000"
      ]
     },
     "execution_count": 31,
     "metadata": {},
     "output_type": "execute_result"
    }
   ],
   "source": [
    "results_df"
   ]
  },
  {
   "cell_type": "markdown",
   "id": "3d420415",
   "metadata": {},
   "source": [
    "### Work off of X1819 drug"
   ]
  },
  {
   "cell_type": "code",
   "execution_count": 36,
   "id": "5d8c4e58",
   "metadata": {},
   "outputs": [
    {
     "name": "stdout",
     "output_type": "stream",
     "text": [
      "0.019578099111581242\n"
     ]
    }
   ],
   "source": [
    "#calculate the mean of the IC50_published datarfame\n",
    "#this will allow us to create labels as IC50 values are the drug response values\n",
    "\n",
    "drug_mean_1819 = X1819_scaled['IC50_PUBLISHED'].mean()\n",
    "print(drug_mean_1819)"
   ]
  },
  {
   "cell_type": "code",
   "execution_count": 38,
   "id": "7a18fcc8",
   "metadata": {},
   "outputs": [],
   "source": [
    "ic_1819, labels_1819 = X1819_scaled['IC50_PUBLISHED'], []\n",
    "for i in range(len(ic_1819)):\n",
    "    if ic_1819[i] > drug_mean_1819:\n",
    "        labels_1819.append('R')\n",
    "    else:\n",
    "        labels_1819.append('NR')\n",
    "\n",
    "y_1819 = pd.Series(labels_1819)"
   ]
  },
  {
   "cell_type": "code",
   "execution_count": 40,
   "id": "8c6bd0e1",
   "metadata": {},
   "outputs": [
    {
     "data": {
      "text/plain": [
       "(463, 225)"
      ]
     },
     "execution_count": 40,
     "metadata": {},
     "output_type": "execute_result"
    }
   ],
   "source": [
    "#select the metabolites ONLY, drop the drug response values\n",
    "\n",
    "X_1819 = X1819_scaled.iloc[:, :225]\n",
    "X_1819.shape"
   ]
  },
  {
   "cell_type": "code",
   "execution_count": 42,
   "id": "a5c9ac5e",
   "metadata": {},
   "outputs": [],
   "source": [
    "#calculate the correlation matrix of the metabolite dataframe\n",
    "#choose the upper triangle of the correlation matrix\n",
    "#create a list of features where the correlation value is >0.90\n",
    "#this list contains the highly correlated features, which will be removed from the dataset\n",
    "\n",
    "\n",
    "corr_matrix_1819 = X_1819.corr().abs()\n",
    "upper_1819 = corr_matrix_1819.where(np.triu(np.ones(corr_matrix_1819.shape), k=1).astype(np.bool))\n",
    "to_drop_1819 = [column for column in upper_1819.columns if any(upper_1819[column]>0.90)]"
   ]
  },
  {
   "cell_type": "code",
   "execution_count": 43,
   "id": "41690598",
   "metadata": {},
   "outputs": [],
   "source": [
    "X_1819.drop(to_drop_1819, axis=1, inplace=True)"
   ]
  },
  {
   "cell_type": "code",
   "execution_count": 44,
   "id": "1f6b71b0",
   "metadata": {},
   "outputs": [
    {
     "data": {
      "text/plain": [
       "((463, 203), (463,))"
      ]
     },
     "execution_count": 44,
     "metadata": {},
     "output_type": "execute_result"
    }
   ],
   "source": [
    "X_1819.shape, y_1819.shape"
   ]
  },
  {
   "cell_type": "code",
   "execution_count": 45,
   "id": "dfad2e36",
   "metadata": {},
   "outputs": [],
   "source": [
    "#run the RFECV model with estimator being Random Forest and StratifiedKFold cross validation with 5 folds.\n",
    "\n",
    "rfecv2 = RFECV(estimator = RandomForestClassifier(random_state=101), step=1, cv=StratifiedKFold(5), scoring='accuracy')"
   ]
  },
  {
   "cell_type": "code",
   "execution_count": 46,
   "id": "5af43671",
   "metadata": {},
   "outputs": [
    {
     "data": {
      "text/plain": [
       "RFECV(cv=StratifiedKFold(n_splits=5, random_state=None, shuffle=False),\n",
       "      estimator=RandomForestClassifier(random_state=101), scoring='accuracy')"
      ]
     },
     "execution_count": 46,
     "metadata": {},
     "output_type": "execute_result"
    }
   ],
   "source": [
    "#fit the X,y to the RFECV model\n",
    "\n",
    "rfecv2.fit(X_1819, y_1819)"
   ]
  },
  {
   "cell_type": "code",
   "execution_count": 47,
   "id": "689e60be",
   "metadata": {},
   "outputs": [
    {
     "data": {
      "text/plain": [
       "28"
      ]
     },
     "execution_count": 47,
     "metadata": {},
     "output_type": "execute_result"
    }
   ],
   "source": [
    "selected_features2 = rfecv2.get_support(1)\n",
    "len(selected_features2)"
   ]
  },
  {
   "cell_type": "code",
   "execution_count": 48,
   "id": "34210459",
   "metadata": {},
   "outputs": [
    {
     "data": {
      "text/plain": [
       "(463, 28)"
      ]
     },
     "execution_count": 48,
     "metadata": {},
     "output_type": "execute_result"
    }
   ],
   "source": [
    "D2 = X_1819[X_1819.columns[selected_features2]]\n",
    "D2.shape"
   ]
  },
  {
   "cell_type": "code",
   "execution_count": 49,
   "id": "e20564db",
   "metadata": {},
   "outputs": [],
   "source": [
    "#using classification_report metrics, run a prediction model using StratifiedKFold cross_validation with k=5 folds\n",
    "#model being used as the classifier is Random Forest\n",
    "\n",
    "kf2 = StratifiedKFold(n_splits = 5, shuffle = False)\n",
    "model2 = RandomForestClassifier()\n",
    "i = 1\n",
    "dfs2 = []\n",
    "for train_index, test_index in kf2.split(D2, y_1819):\n",
    "    X_train, X_test = D2.iloc[train_index], D2.iloc[test_index]\n",
    "    y_train, y_test = y_1819.iloc[train_index], y_1819.iloc[test_index]\n",
    "    model2.fit(X_train, y_train)\n",
    "    predicted2 = model2.predict(X_test)\n",
    "    report2 = classification_report(y_test, predicted2, output_dict = True)\n",
    "    df = pd.DataFrame(report2).transpose()\n",
    "    dfs2.append(df)\n",
    "    i+=1\n",
    "results_df_2 = pd.concat(dfs)\n",
    "results_df_2.to_csv(\"DOCETAXEL_1819_results.tsv\", sep=\"\\t\")"
   ]
  },
  {
   "cell_type": "code",
   "execution_count": 50,
   "id": "d60b0de8",
   "metadata": {},
   "outputs": [
    {
     "data": {
      "text/html": [
       "<div>\n",
       "<style scoped>\n",
       "    .dataframe tbody tr th:only-of-type {\n",
       "        vertical-align: middle;\n",
       "    }\n",
       "\n",
       "    .dataframe tbody tr th {\n",
       "        vertical-align: top;\n",
       "    }\n",
       "\n",
       "    .dataframe thead th {\n",
       "        text-align: right;\n",
       "    }\n",
       "</style>\n",
       "<table border=\"1\" class=\"dataframe\">\n",
       "  <thead>\n",
       "    <tr style=\"text-align: right;\">\n",
       "      <th></th>\n",
       "      <th>precision</th>\n",
       "      <th>recall</th>\n",
       "      <th>f1-score</th>\n",
       "      <th>support</th>\n",
       "    </tr>\n",
       "  </thead>\n",
       "  <tbody>\n",
       "    <tr>\n",
       "      <th>NR</th>\n",
       "      <td>0.841667</td>\n",
       "      <td>1.000000</td>\n",
       "      <td>0.914027</td>\n",
       "      <td>101.000000</td>\n",
       "    </tr>\n",
       "    <tr>\n",
       "      <th>R</th>\n",
       "      <td>0.000000</td>\n",
       "      <td>0.000000</td>\n",
       "      <td>0.000000</td>\n",
       "      <td>19.000000</td>\n",
       "    </tr>\n",
       "    <tr>\n",
       "      <th>accuracy</th>\n",
       "      <td>0.841667</td>\n",
       "      <td>0.841667</td>\n",
       "      <td>0.841667</td>\n",
       "      <td>0.841667</td>\n",
       "    </tr>\n",
       "    <tr>\n",
       "      <th>macro avg</th>\n",
       "      <td>0.420833</td>\n",
       "      <td>0.500000</td>\n",
       "      <td>0.457014</td>\n",
       "      <td>120.000000</td>\n",
       "    </tr>\n",
       "    <tr>\n",
       "      <th>weighted avg</th>\n",
       "      <td>0.708403</td>\n",
       "      <td>0.841667</td>\n",
       "      <td>0.769306</td>\n",
       "      <td>120.000000</td>\n",
       "    </tr>\n",
       "    <tr>\n",
       "      <th>NR</th>\n",
       "      <td>0.848739</td>\n",
       "      <td>0.990196</td>\n",
       "      <td>0.914027</td>\n",
       "      <td>102.000000</td>\n",
       "    </tr>\n",
       "    <tr>\n",
       "      <th>R</th>\n",
       "      <td>0.000000</td>\n",
       "      <td>0.000000</td>\n",
       "      <td>0.000000</td>\n",
       "      <td>18.000000</td>\n",
       "    </tr>\n",
       "    <tr>\n",
       "      <th>accuracy</th>\n",
       "      <td>0.841667</td>\n",
       "      <td>0.841667</td>\n",
       "      <td>0.841667</td>\n",
       "      <td>0.841667</td>\n",
       "    </tr>\n",
       "    <tr>\n",
       "      <th>macro avg</th>\n",
       "      <td>0.424370</td>\n",
       "      <td>0.495098</td>\n",
       "      <td>0.457014</td>\n",
       "      <td>120.000000</td>\n",
       "    </tr>\n",
       "    <tr>\n",
       "      <th>weighted avg</th>\n",
       "      <td>0.721429</td>\n",
       "      <td>0.841667</td>\n",
       "      <td>0.776923</td>\n",
       "      <td>120.000000</td>\n",
       "    </tr>\n",
       "    <tr>\n",
       "      <th>NR</th>\n",
       "      <td>0.850000</td>\n",
       "      <td>1.000000</td>\n",
       "      <td>0.918919</td>\n",
       "      <td>102.000000</td>\n",
       "    </tr>\n",
       "    <tr>\n",
       "      <th>R</th>\n",
       "      <td>0.000000</td>\n",
       "      <td>0.000000</td>\n",
       "      <td>0.000000</td>\n",
       "      <td>18.000000</td>\n",
       "    </tr>\n",
       "    <tr>\n",
       "      <th>accuracy</th>\n",
       "      <td>0.850000</td>\n",
       "      <td>0.850000</td>\n",
       "      <td>0.850000</td>\n",
       "      <td>0.850000</td>\n",
       "    </tr>\n",
       "    <tr>\n",
       "      <th>macro avg</th>\n",
       "      <td>0.425000</td>\n",
       "      <td>0.500000</td>\n",
       "      <td>0.459459</td>\n",
       "      <td>120.000000</td>\n",
       "    </tr>\n",
       "    <tr>\n",
       "      <th>weighted avg</th>\n",
       "      <td>0.722500</td>\n",
       "      <td>0.850000</td>\n",
       "      <td>0.781081</td>\n",
       "      <td>120.000000</td>\n",
       "    </tr>\n",
       "    <tr>\n",
       "      <th>NR</th>\n",
       "      <td>0.855932</td>\n",
       "      <td>0.990196</td>\n",
       "      <td>0.918182</td>\n",
       "      <td>102.000000</td>\n",
       "    </tr>\n",
       "    <tr>\n",
       "      <th>R</th>\n",
       "      <td>0.500000</td>\n",
       "      <td>0.055556</td>\n",
       "      <td>0.100000</td>\n",
       "      <td>18.000000</td>\n",
       "    </tr>\n",
       "    <tr>\n",
       "      <th>accuracy</th>\n",
       "      <td>0.850000</td>\n",
       "      <td>0.850000</td>\n",
       "      <td>0.850000</td>\n",
       "      <td>0.850000</td>\n",
       "    </tr>\n",
       "    <tr>\n",
       "      <th>macro avg</th>\n",
       "      <td>0.677966</td>\n",
       "      <td>0.522876</td>\n",
       "      <td>0.509091</td>\n",
       "      <td>120.000000</td>\n",
       "    </tr>\n",
       "    <tr>\n",
       "      <th>weighted avg</th>\n",
       "      <td>0.802542</td>\n",
       "      <td>0.850000</td>\n",
       "      <td>0.795455</td>\n",
       "      <td>120.000000</td>\n",
       "    </tr>\n",
       "    <tr>\n",
       "      <th>NR</th>\n",
       "      <td>0.848739</td>\n",
       "      <td>0.990196</td>\n",
       "      <td>0.914027</td>\n",
       "      <td>102.000000</td>\n",
       "    </tr>\n",
       "    <tr>\n",
       "      <th>R</th>\n",
       "      <td>0.000000</td>\n",
       "      <td>0.000000</td>\n",
       "      <td>0.000000</td>\n",
       "      <td>18.000000</td>\n",
       "    </tr>\n",
       "    <tr>\n",
       "      <th>accuracy</th>\n",
       "      <td>0.841667</td>\n",
       "      <td>0.841667</td>\n",
       "      <td>0.841667</td>\n",
       "      <td>0.841667</td>\n",
       "    </tr>\n",
       "    <tr>\n",
       "      <th>macro avg</th>\n",
       "      <td>0.424370</td>\n",
       "      <td>0.495098</td>\n",
       "      <td>0.457014</td>\n",
       "      <td>120.000000</td>\n",
       "    </tr>\n",
       "    <tr>\n",
       "      <th>weighted avg</th>\n",
       "      <td>0.721429</td>\n",
       "      <td>0.841667</td>\n",
       "      <td>0.776923</td>\n",
       "      <td>120.000000</td>\n",
       "    </tr>\n",
       "  </tbody>\n",
       "</table>\n",
       "</div>"
      ],
      "text/plain": [
       "              precision    recall  f1-score     support\n",
       "NR             0.841667  1.000000  0.914027  101.000000\n",
       "R              0.000000  0.000000  0.000000   19.000000\n",
       "accuracy       0.841667  0.841667  0.841667    0.841667\n",
       "macro avg      0.420833  0.500000  0.457014  120.000000\n",
       "weighted avg   0.708403  0.841667  0.769306  120.000000\n",
       "NR             0.848739  0.990196  0.914027  102.000000\n",
       "R              0.000000  0.000000  0.000000   18.000000\n",
       "accuracy       0.841667  0.841667  0.841667    0.841667\n",
       "macro avg      0.424370  0.495098  0.457014  120.000000\n",
       "weighted avg   0.721429  0.841667  0.776923  120.000000\n",
       "NR             0.850000  1.000000  0.918919  102.000000\n",
       "R              0.000000  0.000000  0.000000   18.000000\n",
       "accuracy       0.850000  0.850000  0.850000    0.850000\n",
       "macro avg      0.425000  0.500000  0.459459  120.000000\n",
       "weighted avg   0.722500  0.850000  0.781081  120.000000\n",
       "NR             0.855932  0.990196  0.918182  102.000000\n",
       "R              0.500000  0.055556  0.100000   18.000000\n",
       "accuracy       0.850000  0.850000  0.850000    0.850000\n",
       "macro avg      0.677966  0.522876  0.509091  120.000000\n",
       "weighted avg   0.802542  0.850000  0.795455  120.000000\n",
       "NR             0.848739  0.990196  0.914027  102.000000\n",
       "R              0.000000  0.000000  0.000000   18.000000\n",
       "accuracy       0.841667  0.841667  0.841667    0.841667\n",
       "macro avg      0.424370  0.495098  0.457014  120.000000\n",
       "weighted avg   0.721429  0.841667  0.776923  120.000000"
      ]
     },
     "execution_count": 50,
     "metadata": {},
     "output_type": "execute_result"
    }
   ],
   "source": [
    "results_df_2"
   ]
  },
  {
   "cell_type": "code",
   "execution_count": null,
   "id": "4a269ccf",
   "metadata": {},
   "outputs": [],
   "source": []
  }
 ],
 "metadata": {
  "kernelspec": {
   "display_name": "Python 3 (ipykernel)",
   "language": "python",
   "name": "python3"
  },
  "language_info": {
   "codemirror_mode": {
    "name": "ipython",
    "version": 3
   },
   "file_extension": ".py",
   "mimetype": "text/x-python",
   "name": "python",
   "nbconvert_exporter": "python",
   "pygments_lexer": "ipython3",
   "version": "3.8.8"
  }
 },
 "nbformat": 4,
 "nbformat_minor": 5
}
