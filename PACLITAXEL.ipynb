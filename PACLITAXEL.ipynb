{
 "cells": [
  {
   "cell_type": "code",
   "execution_count": 1,
   "id": "16c93cdf",
   "metadata": {},
   "outputs": [],
   "source": [
    "import pandas as pd\n",
    "import seaborn as sns\n",
    "import matplotlib.pyplot as plt\n",
    "import numpy as np\n",
    "from sklearn import svm\n",
    "from sklearn.model_selection import train_test_split, LeaveOneOut, KFold,cross_validate, cross_val_score, StratifiedKFold\n",
    "from sklearn.metrics import accuracy_score, classification_report\n",
    "from sklearn.feature_selection import SequentialFeatureSelector as SFS\n",
    "from sklearn.feature_selection import RFECV\n",
    "from sklearn.ensemble import RandomForestClassifier\n",
    "#from yellowbrick.classifier import ClassificationReport\n",
    "import warnings\n",
    "warnings.filterwarnings(\"ignore\")"
   ]
  },
  {
   "cell_type": "code",
   "execution_count": 2,
   "id": "a66bd713",
   "metadata": {},
   "outputs": [],
   "source": [
    "#merging all the required datasets - metabolomics dataset, drug response dataset and the metadata of the cell lines\n",
    "\n",
    "data = pd.read_excel(\"D:\\\\GaTech\\\\Fall Sem\\\\BIOL 8901\\\\Metabolomic Project\\\\metabolomic_data.xlsx\", sheet_name=\"1-clean data\")\n",
    "data.rename(columns = {'Unnamed: 0': 'ID'}, inplace = True)\n",
    "last_column = data.iloc[:,-1].name\n",
    "sample = pd.read_csv(\"D:\\\\GaTech\\\\Fall Sem\\\\BIOL 8901\\\\sample_info.csv\")\n",
    "sample.rename(columns = {'CCLE_Name':'ID'}, inplace=True)\n",
    "merged_data = data.merge(sample, on='ID')\n",
    "drug = pd.read_csv('D:\\\\GaTech\\\\Fall Sem\\\\BIOL 8901\\\\sanger-dose-response.csv')\n",
    "drug.rename(columns={'ARXSPAN_ID':'DepMap_ID'}, inplace = True)\n",
    "working_data = merged_data.merge(drug, on='DepMap_ID')"
   ]
  },
  {
   "cell_type": "code",
   "execution_count": 3,
   "id": "ec60694d",
   "metadata": {},
   "outputs": [],
   "source": [
    "#since our data has a lot of NaN's in them, we can fill them using 0 (for now, just for a workaround)\n",
    "\n",
    "working_data.fillna(0, inplace=True)"
   ]
  },
  {
   "cell_type": "code",
   "execution_count": 9,
   "id": "246c2006",
   "metadata": {},
   "outputs": [],
   "source": [
    "X_ = working_data.loc[working_data['DRUG_NAME'] == 'PACLITAXEL']"
   ]
  },
  {
   "cell_type": "code",
   "execution_count": 11,
   "id": "1410b4cc",
   "metadata": {},
   "outputs": [],
   "source": [
    "'''\n",
    "reset the index as once we take a subset of the main working_dataset, the indexes will get mixed up.\n",
    "thus the indices need to be reset before we start working on the model\n",
    "'''\n",
    "\n",
    "X_.reset_index(inplace=True)"
   ]
  },
  {
   "cell_type": "code",
   "execution_count": 12,
   "id": "f41ab12f",
   "metadata": {},
   "outputs": [
    {
     "data": {
      "text/html": [
       "<div>\n",
       "<style scoped>\n",
       "    .dataframe tbody tr th:only-of-type {\n",
       "        vertical-align: middle;\n",
       "    }\n",
       "\n",
       "    .dataframe tbody tr th {\n",
       "        vertical-align: top;\n",
       "    }\n",
       "\n",
       "    .dataframe thead th {\n",
       "        text-align: right;\n",
       "    }\n",
       "</style>\n",
       "<table border=\"1\" class=\"dataframe\">\n",
       "  <thead>\n",
       "    <tr style=\"text-align: right;\">\n",
       "      <th></th>\n",
       "      <th>DATASET</th>\n",
       "      <th>DepMap_ID</th>\n",
       "      <th>DRUG_ID</th>\n",
       "      <th>MIN_CONC</th>\n",
       "      <th>MAX_CONC</th>\n",
       "      <th>IC50_PUBLISHED</th>\n",
       "    </tr>\n",
       "  </thead>\n",
       "  <tbody>\n",
       "    <tr>\n",
       "      <th>0</th>\n",
       "      <td>GDSC2</td>\n",
       "      <td>ACH-000698</td>\n",
       "      <td>1080</td>\n",
       "      <td>0.00001</td>\n",
       "      <td>0.1000</td>\n",
       "      <td>1.208432</td>\n",
       "    </tr>\n",
       "    <tr>\n",
       "      <th>1</th>\n",
       "      <td>GDSC2</td>\n",
       "      <td>ACH-000489</td>\n",
       "      <td>1080</td>\n",
       "      <td>0.00001</td>\n",
       "      <td>0.1000</td>\n",
       "      <td>4.662151</td>\n",
       "    </tr>\n",
       "    <tr>\n",
       "      <th>2</th>\n",
       "      <td>GDSC1</td>\n",
       "      <td>ACH-000431</td>\n",
       "      <td>11</td>\n",
       "      <td>0.00040</td>\n",
       "      <td>0.1024</td>\n",
       "      <td>0.137982</td>\n",
       "    </tr>\n",
       "    <tr>\n",
       "      <th>3</th>\n",
       "      <td>GDSC2</td>\n",
       "      <td>ACH-000431</td>\n",
       "      <td>1080</td>\n",
       "      <td>0.00001</td>\n",
       "      <td>0.1000</td>\n",
       "      <td>0.742900</td>\n",
       "    </tr>\n",
       "    <tr>\n",
       "      <th>4</th>\n",
       "      <td>GDSC2</td>\n",
       "      <td>ACH-000522</td>\n",
       "      <td>1080</td>\n",
       "      <td>0.00001</td>\n",
       "      <td>0.1000</td>\n",
       "      <td>0.019424</td>\n",
       "    </tr>\n",
       "    <tr>\n",
       "      <th>...</th>\n",
       "      <td>...</td>\n",
       "      <td>...</td>\n",
       "      <td>...</td>\n",
       "      <td>...</td>\n",
       "      <td>...</td>\n",
       "      <td>...</td>\n",
       "    </tr>\n",
       "    <tr>\n",
       "      <th>741</th>\n",
       "      <td>GDSC2</td>\n",
       "      <td>ACH-000655</td>\n",
       "      <td>1080</td>\n",
       "      <td>0.00001</td>\n",
       "      <td>0.1000</td>\n",
       "      <td>0.046351</td>\n",
       "    </tr>\n",
       "    <tr>\n",
       "      <th>742</th>\n",
       "      <td>GDSC1</td>\n",
       "      <td>ACH-000273</td>\n",
       "      <td>11</td>\n",
       "      <td>0.00040</td>\n",
       "      <td>0.1024</td>\n",
       "      <td>0.026638</td>\n",
       "    </tr>\n",
       "    <tr>\n",
       "      <th>743</th>\n",
       "      <td>GDSC2</td>\n",
       "      <td>ACH-000273</td>\n",
       "      <td>1080</td>\n",
       "      <td>0.00001</td>\n",
       "      <td>0.1000</td>\n",
       "      <td>0.006356</td>\n",
       "    </tr>\n",
       "    <tr>\n",
       "      <th>744</th>\n",
       "      <td>GDSC1</td>\n",
       "      <td>ACH-000504</td>\n",
       "      <td>11</td>\n",
       "      <td>0.00040</td>\n",
       "      <td>0.1024</td>\n",
       "      <td>0.016084</td>\n",
       "    </tr>\n",
       "    <tr>\n",
       "      <th>745</th>\n",
       "      <td>GDSC2</td>\n",
       "      <td>ACH-000825</td>\n",
       "      <td>1080</td>\n",
       "      <td>0.00001</td>\n",
       "      <td>0.1000</td>\n",
       "      <td>2.397995</td>\n",
       "    </tr>\n",
       "  </tbody>\n",
       "</table>\n",
       "<p>746 rows × 6 columns</p>\n",
       "</div>"
      ],
      "text/plain": [
       "    DATASET   DepMap_ID  DRUG_ID  MIN_CONC  MAX_CONC  IC50_PUBLISHED\n",
       "0     GDSC2  ACH-000698     1080   0.00001    0.1000        1.208432\n",
       "1     GDSC2  ACH-000489     1080   0.00001    0.1000        4.662151\n",
       "2     GDSC1  ACH-000431       11   0.00040    0.1024        0.137982\n",
       "3     GDSC2  ACH-000431     1080   0.00001    0.1000        0.742900\n",
       "4     GDSC2  ACH-000522     1080   0.00001    0.1000        0.019424\n",
       "..      ...         ...      ...       ...       ...             ...\n",
       "741   GDSC2  ACH-000655     1080   0.00001    0.1000        0.046351\n",
       "742   GDSC1  ACH-000273       11   0.00040    0.1024        0.026638\n",
       "743   GDSC2  ACH-000273     1080   0.00001    0.1000        0.006356\n",
       "744   GDSC1  ACH-000504       11   0.00040    0.1024        0.016084\n",
       "745   GDSC2  ACH-000825     1080   0.00001    0.1000        2.397995\n",
       "\n",
       "[746 rows x 6 columns]"
      ]
     },
     "execution_count": 12,
     "metadata": {},
     "output_type": "execute_result"
    }
   ],
   "source": [
    "X_[['DATASET', 'DepMap_ID', 'DRUG_ID', 'MIN_CONC', 'MAX_CONC', 'IC50_PUBLISHED']]"
   ]
  },
  {
   "cell_type": "code",
   "execution_count": 13,
   "id": "58613fd0",
   "metadata": {},
   "outputs": [],
   "source": [
    "X_ = X_[~X_.duplicated(['DepMap_ID'], keep=False) | X_['DATASET'].eq('GDSC2')]"
   ]
  },
  {
   "cell_type": "code",
   "execution_count": 14,
   "id": "622362d4",
   "metadata": {},
   "outputs": [
    {
     "data": {
      "text/plain": [
       "(563, 271)"
      ]
     },
     "execution_count": 14,
     "metadata": {},
     "output_type": "execute_result"
    }
   ],
   "source": [
    "X_.shape"
   ]
  },
  {
   "cell_type": "code",
   "execution_count": 15,
   "id": "77af6306",
   "metadata": {},
   "outputs": [],
   "source": [
    "X_.reset_index(inplace=True)"
   ]
  },
  {
   "cell_type": "code",
   "execution_count": 16,
   "id": "f0883a2f",
   "metadata": {},
   "outputs": [
    {
     "data": {
      "text/plain": [
       "(563, 244)"
      ]
     },
     "execution_count": 16,
     "metadata": {},
     "output_type": "execute_result"
    }
   ],
   "source": [
    "#drop the metadata\n",
    "\n",
    "X_ = X_.select_dtypes('float64')\n",
    "X_.shape"
   ]
  },
  {
   "cell_type": "code",
   "execution_count": 18,
   "id": "8a7241af",
   "metadata": {},
   "outputs": [],
   "source": [
    "#scale the dataframe, at a quick glance the metabolite profiles are not scaled thus scaling of the dataframe is necessary\n",
    "\n",
    "X_min = X_.min()\n",
    "X_max = X_.max()\n",
    "X_range = (X_max-X_min)\n",
    "X_scaled = (X_-X_min)/(X_range)"
   ]
  },
  {
   "cell_type": "code",
   "execution_count": 19,
   "id": "436edbaa",
   "metadata": {},
   "outputs": [
    {
     "name": "stdout",
     "output_type": "stream",
     "text": [
      "0.015918484841278387 0.060137431437295545\n"
     ]
    }
   ],
   "source": [
    "#calculate the mean and standard deviation of the IC50_PUBLISHED\n",
    "\n",
    "drug_mean = X_scaled['IC50_PUBLISHED'].mean()\n",
    "drug_std = X_scaled['IC50_PUBLISHED'].std()\n",
    "print(drug_mean, drug_std)"
   ]
  },
  {
   "cell_type": "code",
   "execution_count": 20,
   "id": "2722b09b",
   "metadata": {},
   "outputs": [],
   "source": [
    "#create labels\n",
    "\n",
    "ic, labels = X_scaled['IC50_PUBLISHED'], []\n",
    "for i in range(len(ic)):\n",
    "    #if the IC50_PUBLISHED value is greater than the mean, add responsive label to the label list\n",
    "    if ic[i] > drug_mean:\n",
    "        labels.append('R')\n",
    "    #if the IC50_PUBLISHED value is less than the mean, add non responsive label to the label list\n",
    "    elif ic[i] < drug_mean:\n",
    "        labels.append('NR')\n",
    "        \n",
    "y = pd.Series(labels)"
   ]
  },
  {
   "cell_type": "code",
   "execution_count": 21,
   "id": "ef20981c",
   "metadata": {},
   "outputs": [],
   "source": [
    "X = X_scaled.iloc[:, :225]"
   ]
  },
  {
   "cell_type": "code",
   "execution_count": 22,
   "id": "08aceb2b",
   "metadata": {},
   "outputs": [],
   "source": [
    "#calculate the correlation matrix of the metabolite dataframe\n",
    "#choose the upper triangle of the correlation matrix\n",
    "#create a list of features where the correlation value is >0.90\n",
    "#this list contains the highly correlated features, which will be removed from the dataset\n",
    "\n",
    "corr_matrix = X.corr().abs()\n",
    "upper = corr_matrix.where(np.triu(np.ones(corr_matrix.shape), k=1).astype(np.bool))\n",
    "to_drop = [column for column in upper.columns if any(upper[column]>0.90)]"
   ]
  },
  {
   "cell_type": "code",
   "execution_count": 23,
   "id": "3c9be729",
   "metadata": {},
   "outputs": [],
   "source": [
    "#drop the list of highly correlated features computed above\n",
    "\n",
    "X.drop(to_drop, axis=1, inplace=True)"
   ]
  },
  {
   "cell_type": "code",
   "execution_count": 24,
   "id": "ea489ace",
   "metadata": {},
   "outputs": [],
   "source": [
    "#run the RFECV model with estimator being Random Forest and StratifiedKFold cross validation with 5 folds.\n",
    "\n",
    "rfecv = RFECV(estimator = RandomForestClassifier(random_state=101), step=1, cv=StratifiedKFold(5), scoring='accuracy')"
   ]
  },
  {
   "cell_type": "code",
   "execution_count": 25,
   "id": "cef9596f",
   "metadata": {},
   "outputs": [
    {
     "data": {
      "text/plain": [
       "RFECV(cv=StratifiedKFold(n_splits=5, random_state=None, shuffle=False),\n",
       "      estimator=RandomForestClassifier(random_state=101), scoring='accuracy')"
      ]
     },
     "execution_count": 25,
     "metadata": {},
     "output_type": "execute_result"
    }
   ],
   "source": [
    "#fit the X,y to the RFECV model\n",
    "\n",
    "rfecv.fit(X, y)"
   ]
  },
  {
   "cell_type": "code",
   "execution_count": 26,
   "id": "5234cac8",
   "metadata": {},
   "outputs": [],
   "source": [
    "#choose the features that are selected by the RFECV model\n",
    "\n",
    "selected_features = rfecv.get_support(1)"
   ]
  },
  {
   "cell_type": "code",
   "execution_count": 27,
   "id": "057e569d",
   "metadata": {},
   "outputs": [
    {
     "data": {
      "text/plain": [
       "(563, 66)"
      ]
     },
     "execution_count": 27,
     "metadata": {},
     "output_type": "execute_result"
    }
   ],
   "source": [
    "#select a subset dataframe that contains only the \"optimal\" metabolic features returned from the RFECV model\n",
    "\n",
    "X3 = X[X.columns[selected_features]]\n",
    "X3.shape"
   ]
  },
  {
   "cell_type": "code",
   "execution_count": 28,
   "id": "1849c7b5",
   "metadata": {},
   "outputs": [],
   "source": [
    "#using classification_report metrics, run a prediction model using StratifiedKFold cross_validation with k=5 folds\n",
    "#model being used as the classifier is Random Forest\n",
    "\n",
    "kf3 = StratifiedKFold(n_splits = 5, shuffle=False)\n",
    "model=RandomForestClassifier()\n",
    "i=1\n",
    "dfs = []\n",
    "for train_index, test_index in kf3.split(X3, y):\n",
    "    #select train and test datasets from X and y\n",
    "    X_train, X_test = X3.iloc[train_index], X3.iloc[test_index]\n",
    "    y_train, y_test = y.iloc[train_index], y.iloc[test_index]\n",
    "    #train the model\n",
    "    model.fit(X_train, y_train)\n",
    "    #predict the test dataset\n",
    "    predicted = model.predict(X_test)\n",
    "    #print the classification score report\n",
    "    report = classification_report(y_test, predicted, output_dict = True)\n",
    "    df = pd.DataFrame(report).transpose()\n",
    "    dfs.append(df)\n",
    "    i+=1\n",
    "results_df = pd.concat(dfs)"
   ]
  },
  {
   "cell_type": "code",
   "execution_count": 29,
   "id": "906519ff",
   "metadata": {},
   "outputs": [],
   "source": [
    "results_df.to_csv(\"PACLITAXEL_Results.tsv\", sep=\"\\t\")"
   ]
  },
  {
   "cell_type": "code",
   "execution_count": null,
   "id": "6085c84a",
   "metadata": {},
   "outputs": [],
   "source": []
  }
 ],
 "metadata": {
  "kernelspec": {
   "display_name": "Python 3 (ipykernel)",
   "language": "python",
   "name": "python3"
  },
  "language_info": {
   "codemirror_mode": {
    "name": "ipython",
    "version": 3
   },
   "file_extension": ".py",
   "mimetype": "text/x-python",
   "name": "python",
   "nbconvert_exporter": "python",
   "pygments_lexer": "ipython3",
   "version": "3.8.8"
  }
 },
 "nbformat": 4,
 "nbformat_minor": 5
}
