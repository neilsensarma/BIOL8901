{
 "cells": [
  {
   "cell_type": "code",
   "execution_count": 1,
   "id": "42bb8464",
   "metadata": {},
   "outputs": [],
   "source": [
    "import pandas as pd\n",
    "import numpy as np\n",
    "from sklearn.preprocessing import MinMaxScaler, StandardScaler\n",
    "from sklearn.feature_selection import RFECV, RFE\n",
    "from sklearn.model_selection import StratifiedKFold, RepeatedStratifiedKFold\n",
    "from sklearn.svm import SVC\n",
    "from sklearn.ensemble import AdaBoostClassifier, RandomForestClassifier\n",
    "from sklearn.metrics import accuracy_score, f1_score, confusion_matrix\n",
    "import matplotlib.pyplot as plt\n",
    "import seaborn as sns\n",
    "import warnings\n",
    "warnings.filterwarnings('ignore')"
   ]
  },
  {
   "cell_type": "code",
   "execution_count": 3,
   "id": "3f0a28c2",
   "metadata": {},
   "outputs": [],
   "source": [
    "#merging all the required datasets - metabolomics dataset, drug response dataset and the metadata of the cell lines\n",
    "\n",
    "data = pd.read_excel(\"D:\\\\GaTech\\\\Fall Sem\\\\BIOL 8901\\\\Metabolomic Project\\\\metabolomic_data.xlsx\", sheet_name=\"1-clean data\")\n",
    "data.rename(columns = {'Unnamed: 0': 'ID'}, inplace = True)\n",
    "last_column = data.iloc[:,-1].name\n",
    "sample = pd.read_csv(\"D:\\\\GaTech\\\\Fall Sem\\\\BIOL 8901\\\\sample_info.csv\")\n",
    "sample.rename(columns = {'CCLE_Name':'ID'}, inplace=True)\n",
    "merged_data = data.merge(sample, on='ID')\n",
    "drug = pd.read_csv('D:\\\\GaTech\\\\Fall Sem\\\\BIOL 8901\\\\sanger-dose-response.csv')\n",
    "drug.rename(columns={'ARXSPAN_ID':'DepMap_ID'}, inplace = True)\n",
    "working_data = merged_data.merge(drug, on='DepMap_ID')"
   ]
  },
  {
   "cell_type": "code",
   "execution_count": 4,
   "id": "0bf98fd7",
   "metadata": {},
   "outputs": [
    {
     "data": {
      "text/html": [
       "<div>\n",
       "<style scoped>\n",
       "    .dataframe tbody tr th:only-of-type {\n",
       "        vertical-align: middle;\n",
       "    }\n",
       "\n",
       "    .dataframe tbody tr th {\n",
       "        vertical-align: top;\n",
       "    }\n",
       "\n",
       "    .dataframe thead th {\n",
       "        text-align: right;\n",
       "    }\n",
       "</style>\n",
       "<table border=\"1\" class=\"dataframe\">\n",
       "  <thead>\n",
       "    <tr style=\"text-align: right;\">\n",
       "      <th></th>\n",
       "      <th>ID</th>\n",
       "      <th>2-aminoadipate</th>\n",
       "      <th>3-phosphoglycerate</th>\n",
       "      <th>alpha-glycerophosphate</th>\n",
       "      <th>4-pyridoxate</th>\n",
       "      <th>aconitate</th>\n",
       "      <th>adenine</th>\n",
       "      <th>adipate</th>\n",
       "      <th>alpha-ketoglutarate</th>\n",
       "      <th>AMP</th>\n",
       "      <th>...</th>\n",
       "      <th>DRUG_NAME</th>\n",
       "      <th>BROAD_ID</th>\n",
       "      <th>upper_limit</th>\n",
       "      <th>ec50</th>\n",
       "      <th>slope</th>\n",
       "      <th>lower_limit</th>\n",
       "      <th>auc</th>\n",
       "      <th>log2.ic50</th>\n",
       "      <th>mse</th>\n",
       "      <th>R2</th>\n",
       "    </tr>\n",
       "  </thead>\n",
       "  <tbody>\n",
       "    <tr>\n",
       "      <th>0</th>\n",
       "      <td>DMS53_LUNG</td>\n",
       "      <td>6.112727</td>\n",
       "      <td>6.034198</td>\n",
       "      <td>5.896896</td>\n",
       "      <td>6.000532</td>\n",
       "      <td>5.513618</td>\n",
       "      <td>5.868529</td>\n",
       "      <td>5.977177</td>\n",
       "      <td>5.693074</td>\n",
       "      <td>5.923737</td>\n",
       "      <td>...</td>\n",
       "      <td>DOXORUBICIN</td>\n",
       "      <td>BRD-K92093830, BRD-A52530684, BRD-K61468417</td>\n",
       "      <td>0.932547</td>\n",
       "      <td>6.533872e-01</td>\n",
       "      <td>-8.901463</td>\n",
       "      <td>0.535007</td>\n",
       "      <td>0.900190</td>\n",
       "      <td>NaN</td>\n",
       "      <td>1.151287e-03</td>\n",
       "      <td>0.927925</td>\n",
       "    </tr>\n",
       "    <tr>\n",
       "      <th>1</th>\n",
       "      <td>DMS53_LUNG</td>\n",
       "      <td>6.112727</td>\n",
       "      <td>6.034198</td>\n",
       "      <td>5.896896</td>\n",
       "      <td>6.000532</td>\n",
       "      <td>5.513618</td>\n",
       "      <td>5.868529</td>\n",
       "      <td>5.977177</td>\n",
       "      <td>5.693074</td>\n",
       "      <td>5.923737</td>\n",
       "      <td>...</td>\n",
       "      <td>ETOPOSIDE</td>\n",
       "      <td>BRD-K37798499, BRD-A33280134, BRD-K36186323, B...</td>\n",
       "      <td>0.998083</td>\n",
       "      <td>2.400159e+00</td>\n",
       "      <td>-1.880861</td>\n",
       "      <td>0.882042</td>\n",
       "      <td>0.958086</td>\n",
       "      <td>NaN</td>\n",
       "      <td>7.486886e-04</td>\n",
       "      <td>0.724984</td>\n",
       "    </tr>\n",
       "    <tr>\n",
       "      <th>2</th>\n",
       "      <td>DMS53_LUNG</td>\n",
       "      <td>6.112727</td>\n",
       "      <td>6.034198</td>\n",
       "      <td>5.896896</td>\n",
       "      <td>6.000532</td>\n",
       "      <td>5.513618</td>\n",
       "      <td>5.868529</td>\n",
       "      <td>5.977177</td>\n",
       "      <td>5.693074</td>\n",
       "      <td>5.923737</td>\n",
       "      <td>...</td>\n",
       "      <td>GEMCITABINE</td>\n",
       "      <td>BRD-K15108141, BRD-K67681739, BRD-K11238904</td>\n",
       "      <td>0.971751</td>\n",
       "      <td>1.957485e-01</td>\n",
       "      <td>-1.961257</td>\n",
       "      <td>0.617560</td>\n",
       "      <td>0.864834</td>\n",
       "      <td>NaN</td>\n",
       "      <td>1.675194e-03</td>\n",
       "      <td>0.911867</td>\n",
       "    </tr>\n",
       "    <tr>\n",
       "      <th>3</th>\n",
       "      <td>DMS53_LUNG</td>\n",
       "      <td>6.112727</td>\n",
       "      <td>6.034198</td>\n",
       "      <td>5.896896</td>\n",
       "      <td>6.000532</td>\n",
       "      <td>5.513618</td>\n",
       "      <td>5.868529</td>\n",
       "      <td>5.977177</td>\n",
       "      <td>5.693074</td>\n",
       "      <td>5.923737</td>\n",
       "      <td>...</td>\n",
       "      <td>MITOMYCIN-C</td>\n",
       "      <td>BRD-A48237631</td>\n",
       "      <td>1.089647</td>\n",
       "      <td>7.876277e-01</td>\n",
       "      <td>-0.899952</td>\n",
       "      <td>0.001208</td>\n",
       "      <td>0.505752</td>\n",
       "      <td>-0.076157</td>\n",
       "      <td>4.204267e-03</td>\n",
       "      <td>0.962517</td>\n",
       "    </tr>\n",
       "    <tr>\n",
       "      <th>4</th>\n",
       "      <td>DMS53_LUNG</td>\n",
       "      <td>6.112727</td>\n",
       "      <td>6.034198</td>\n",
       "      <td>5.896896</td>\n",
       "      <td>6.000532</td>\n",
       "      <td>5.513618</td>\n",
       "      <td>5.868529</td>\n",
       "      <td>5.977177</td>\n",
       "      <td>5.693074</td>\n",
       "      <td>5.923737</td>\n",
       "      <td>...</td>\n",
       "      <td>VINORELBINE</td>\n",
       "      <td>BRD-K04269837, BRD-K69280563</td>\n",
       "      <td>0.988597</td>\n",
       "      <td>2.000661e-02</td>\n",
       "      <td>-0.608512</td>\n",
       "      <td>0.840494</td>\n",
       "      <td>0.942902</td>\n",
       "      <td>NaN</td>\n",
       "      <td>2.875568e-04</td>\n",
       "      <td>0.760183</td>\n",
       "    </tr>\n",
       "    <tr>\n",
       "      <th>5</th>\n",
       "      <td>DMS53_LUNG</td>\n",
       "      <td>6.112727</td>\n",
       "      <td>6.034198</td>\n",
       "      <td>5.896896</td>\n",
       "      <td>6.000532</td>\n",
       "      <td>5.513618</td>\n",
       "      <td>5.868529</td>\n",
       "      <td>5.977177</td>\n",
       "      <td>5.693074</td>\n",
       "      <td>5.923737</td>\n",
       "      <td>...</td>\n",
       "      <td>NSC-87877</td>\n",
       "      <td>NaN</td>\n",
       "      <td>NaN</td>\n",
       "      <td>NaN</td>\n",
       "      <td>NaN</td>\n",
       "      <td>NaN</td>\n",
       "      <td>NaN</td>\n",
       "      <td>NaN</td>\n",
       "      <td>NaN</td>\n",
       "      <td>NaN</td>\n",
       "    </tr>\n",
       "    <tr>\n",
       "      <th>6</th>\n",
       "      <td>DMS53_LUNG</td>\n",
       "      <td>6.112727</td>\n",
       "      <td>6.034198</td>\n",
       "      <td>5.896896</td>\n",
       "      <td>6.000532</td>\n",
       "      <td>5.513618</td>\n",
       "      <td>5.868529</td>\n",
       "      <td>5.977177</td>\n",
       "      <td>5.693074</td>\n",
       "      <td>5.923737</td>\n",
       "      <td>...</td>\n",
       "      <td>BICALUTAMIDE</td>\n",
       "      <td>BRD-A29485665</td>\n",
       "      <td>NaN</td>\n",
       "      <td>NaN</td>\n",
       "      <td>NaN</td>\n",
       "      <td>NaN</td>\n",
       "      <td>NaN</td>\n",
       "      <td>NaN</td>\n",
       "      <td>NaN</td>\n",
       "      <td>NaN</td>\n",
       "    </tr>\n",
       "    <tr>\n",
       "      <th>7</th>\n",
       "      <td>DMS53_LUNG</td>\n",
       "      <td>6.112727</td>\n",
       "      <td>6.034198</td>\n",
       "      <td>5.896896</td>\n",
       "      <td>6.000532</td>\n",
       "      <td>5.513618</td>\n",
       "      <td>5.868529</td>\n",
       "      <td>5.977177</td>\n",
       "      <td>5.693074</td>\n",
       "      <td>5.923737</td>\n",
       "      <td>...</td>\n",
       "      <td>QS11</td>\n",
       "      <td>NaN</td>\n",
       "      <td>0.985203</td>\n",
       "      <td>5.302192e+22</td>\n",
       "      <td>-0.379964</td>\n",
       "      <td>-3023.976657</td>\n",
       "      <td>0.985196</td>\n",
       "      <td>NaN</td>\n",
       "      <td>3.140087e-04</td>\n",
       "      <td>-0.000084</td>\n",
       "    </tr>\n",
       "    <tr>\n",
       "      <th>8</th>\n",
       "      <td>DMS53_LUNG</td>\n",
       "      <td>6.112727</td>\n",
       "      <td>6.034198</td>\n",
       "      <td>5.896896</td>\n",
       "      <td>6.000532</td>\n",
       "      <td>5.513618</td>\n",
       "      <td>5.868529</td>\n",
       "      <td>5.977177</td>\n",
       "      <td>5.693074</td>\n",
       "      <td>5.923737</td>\n",
       "      <td>...</td>\n",
       "      <td>CP466722</td>\n",
       "      <td>NaN</td>\n",
       "      <td>1.000144</td>\n",
       "      <td>2.085594e+01</td>\n",
       "      <td>-6.728454</td>\n",
       "      <td>0.247023</td>\n",
       "      <td>0.996894</td>\n",
       "      <td>NaN</td>\n",
       "      <td>1.378624e-07</td>\n",
       "      <td>0.999881</td>\n",
       "    </tr>\n",
       "    <tr>\n",
       "      <th>9</th>\n",
       "      <td>DMS53_LUNG</td>\n",
       "      <td>6.112727</td>\n",
       "      <td>6.034198</td>\n",
       "      <td>5.896896</td>\n",
       "      <td>6.000532</td>\n",
       "      <td>5.513618</td>\n",
       "      <td>5.868529</td>\n",
       "      <td>5.977177</td>\n",
       "      <td>5.693074</td>\n",
       "      <td>5.923737</td>\n",
       "      <td>...</td>\n",
       "      <td>MIDOSTAURIN</td>\n",
       "      <td>BRD-K13646352</td>\n",
       "      <td>NaN</td>\n",
       "      <td>NaN</td>\n",
       "      <td>NaN</td>\n",
       "      <td>NaN</td>\n",
       "      <td>NaN</td>\n",
       "      <td>NaN</td>\n",
       "      <td>NaN</td>\n",
       "      <td>NaN</td>\n",
       "    </tr>\n",
       "  </tbody>\n",
       "</table>\n",
       "<p>10 rows × 270 columns</p>\n",
       "</div>"
      ],
      "text/plain": [
       "           ID  2-aminoadipate  3-phosphoglycerate  alpha-glycerophosphate  \\\n",
       "0  DMS53_LUNG        6.112727            6.034198                5.896896   \n",
       "1  DMS53_LUNG        6.112727            6.034198                5.896896   \n",
       "2  DMS53_LUNG        6.112727            6.034198                5.896896   \n",
       "3  DMS53_LUNG        6.112727            6.034198                5.896896   \n",
       "4  DMS53_LUNG        6.112727            6.034198                5.896896   \n",
       "5  DMS53_LUNG        6.112727            6.034198                5.896896   \n",
       "6  DMS53_LUNG        6.112727            6.034198                5.896896   \n",
       "7  DMS53_LUNG        6.112727            6.034198                5.896896   \n",
       "8  DMS53_LUNG        6.112727            6.034198                5.896896   \n",
       "9  DMS53_LUNG        6.112727            6.034198                5.896896   \n",
       "\n",
       "   4-pyridoxate  aconitate   adenine   adipate  alpha-ketoglutarate       AMP  \\\n",
       "0      6.000532   5.513618  5.868529  5.977177             5.693074  5.923737   \n",
       "1      6.000532   5.513618  5.868529  5.977177             5.693074  5.923737   \n",
       "2      6.000532   5.513618  5.868529  5.977177             5.693074  5.923737   \n",
       "3      6.000532   5.513618  5.868529  5.977177             5.693074  5.923737   \n",
       "4      6.000532   5.513618  5.868529  5.977177             5.693074  5.923737   \n",
       "5      6.000532   5.513618  5.868529  5.977177             5.693074  5.923737   \n",
       "6      6.000532   5.513618  5.868529  5.977177             5.693074  5.923737   \n",
       "7      6.000532   5.513618  5.868529  5.977177             5.693074  5.923737   \n",
       "8      6.000532   5.513618  5.868529  5.977177             5.693074  5.923737   \n",
       "9      6.000532   5.513618  5.868529  5.977177             5.693074  5.923737   \n",
       "\n",
       "   ...     DRUG_NAME                                           BROAD_ID  \\\n",
       "0  ...   DOXORUBICIN        BRD-K92093830, BRD-A52530684, BRD-K61468417   \n",
       "1  ...     ETOPOSIDE  BRD-K37798499, BRD-A33280134, BRD-K36186323, B...   \n",
       "2  ...   GEMCITABINE        BRD-K15108141, BRD-K67681739, BRD-K11238904   \n",
       "3  ...   MITOMYCIN-C                                      BRD-A48237631   \n",
       "4  ...   VINORELBINE                       BRD-K04269837, BRD-K69280563   \n",
       "5  ...     NSC-87877                                                NaN   \n",
       "6  ...  BICALUTAMIDE                                      BRD-A29485665   \n",
       "7  ...          QS11                                                NaN   \n",
       "8  ...      CP466722                                                NaN   \n",
       "9  ...   MIDOSTAURIN                                      BRD-K13646352   \n",
       "\n",
       "   upper_limit          ec50     slope  lower_limit       auc  log2.ic50  \\\n",
       "0     0.932547  6.533872e-01 -8.901463     0.535007  0.900190        NaN   \n",
       "1     0.998083  2.400159e+00 -1.880861     0.882042  0.958086        NaN   \n",
       "2     0.971751  1.957485e-01 -1.961257     0.617560  0.864834        NaN   \n",
       "3     1.089647  7.876277e-01 -0.899952     0.001208  0.505752  -0.076157   \n",
       "4     0.988597  2.000661e-02 -0.608512     0.840494  0.942902        NaN   \n",
       "5          NaN           NaN       NaN          NaN       NaN        NaN   \n",
       "6          NaN           NaN       NaN          NaN       NaN        NaN   \n",
       "7     0.985203  5.302192e+22 -0.379964 -3023.976657  0.985196        NaN   \n",
       "8     1.000144  2.085594e+01 -6.728454     0.247023  0.996894        NaN   \n",
       "9          NaN           NaN       NaN          NaN       NaN        NaN   \n",
       "\n",
       "            mse        R2  \n",
       "0  1.151287e-03  0.927925  \n",
       "1  7.486886e-04  0.724984  \n",
       "2  1.675194e-03  0.911867  \n",
       "3  4.204267e-03  0.962517  \n",
       "4  2.875568e-04  0.760183  \n",
       "5           NaN       NaN  \n",
       "6           NaN       NaN  \n",
       "7  3.140087e-04 -0.000084  \n",
       "8  1.378624e-07  0.999881  \n",
       "9           NaN       NaN  \n",
       "\n",
       "[10 rows x 270 columns]"
      ]
     },
     "execution_count": 4,
     "metadata": {},
     "output_type": "execute_result"
    }
   ],
   "source": [
    "working_data.head(10)"
   ]
  },
  {
   "cell_type": "code",
   "execution_count": 5,
   "id": "2637a790",
   "metadata": {},
   "outputs": [
    {
     "data": {
      "text/html": [
       "<div>\n",
       "<style scoped>\n",
       "    .dataframe tbody tr th:only-of-type {\n",
       "        vertical-align: middle;\n",
       "    }\n",
       "\n",
       "    .dataframe tbody tr th {\n",
       "        vertical-align: top;\n",
       "    }\n",
       "\n",
       "    .dataframe thead th {\n",
       "        text-align: right;\n",
       "    }\n",
       "</style>\n",
       "<table border=\"1\" class=\"dataframe\">\n",
       "  <thead>\n",
       "    <tr style=\"text-align: right;\">\n",
       "      <th></th>\n",
       "      <th>ID</th>\n",
       "      <th>2-aminoadipate</th>\n",
       "      <th>3-phosphoglycerate</th>\n",
       "      <th>alpha-glycerophosphate</th>\n",
       "      <th>4-pyridoxate</th>\n",
       "      <th>aconitate</th>\n",
       "      <th>adenine</th>\n",
       "      <th>adipate</th>\n",
       "      <th>alpha-ketoglutarate</th>\n",
       "      <th>AMP</th>\n",
       "      <th>...</th>\n",
       "      <th>DRUG_NAME</th>\n",
       "      <th>BROAD_ID</th>\n",
       "      <th>upper_limit</th>\n",
       "      <th>ec50</th>\n",
       "      <th>slope</th>\n",
       "      <th>lower_limit</th>\n",
       "      <th>auc</th>\n",
       "      <th>log2.ic50</th>\n",
       "      <th>mse</th>\n",
       "      <th>R2</th>\n",
       "    </tr>\n",
       "  </thead>\n",
       "  <tbody>\n",
       "    <tr>\n",
       "      <th>280</th>\n",
       "      <td>DMS53_LUNG</td>\n",
       "      <td>6.112727</td>\n",
       "      <td>6.034198</td>\n",
       "      <td>5.896896</td>\n",
       "      <td>6.000532</td>\n",
       "      <td>5.513618</td>\n",
       "      <td>5.868529</td>\n",
       "      <td>5.977177</td>\n",
       "      <td>5.693074</td>\n",
       "      <td>5.923737</td>\n",
       "      <td>...</td>\n",
       "      <td>CISPLATIN</td>\n",
       "      <td>BRD-K69172251, BRD-K33494261, BRD-K01228321</td>\n",
       "      <td>0.985746</td>\n",
       "      <td>2.274467</td>\n",
       "      <td>-1.966950</td>\n",
       "      <td>0.821795</td>\n",
       "      <td>0.962421</td>\n",
       "      <td>NaN</td>\n",
       "      <td>0.000613</td>\n",
       "      <td>0.78342</td>\n",
       "    </tr>\n",
       "    <tr>\n",
       "      <th>1147</th>\n",
       "      <td>NCIH1694_LUNG</td>\n",
       "      <td>5.886398</td>\n",
       "      <td>5.574881</td>\n",
       "      <td>5.541259</td>\n",
       "      <td>5.848375</td>\n",
       "      <td>5.665026</td>\n",
       "      <td>5.875548</td>\n",
       "      <td>5.894904</td>\n",
       "      <td>5.839640</td>\n",
       "      <td>5.742613</td>\n",
       "      <td>...</td>\n",
       "      <td>CISPLATIN</td>\n",
       "      <td>BRD-K69172251, BRD-K33494261, BRD-K01228321</td>\n",
       "      <td>0.934955</td>\n",
       "      <td>1.951074</td>\n",
       "      <td>-1.668638</td>\n",
       "      <td>0.552481</td>\n",
       "      <td>0.868015</td>\n",
       "      <td>NaN</td>\n",
       "      <td>0.001241</td>\n",
       "      <td>0.92007</td>\n",
       "    </tr>\n",
       "  </tbody>\n",
       "</table>\n",
       "<p>2 rows × 270 columns</p>\n",
       "</div>"
      ],
      "text/plain": [
       "                 ID  2-aminoadipate  3-phosphoglycerate  \\\n",
       "280      DMS53_LUNG        6.112727            6.034198   \n",
       "1147  NCIH1694_LUNG        5.886398            5.574881   \n",
       "\n",
       "      alpha-glycerophosphate  4-pyridoxate  aconitate   adenine   adipate  \\\n",
       "280                 5.896896      6.000532   5.513618  5.868529  5.977177   \n",
       "1147                5.541259      5.848375   5.665026  5.875548  5.894904   \n",
       "\n",
       "      alpha-ketoglutarate       AMP  ...  DRUG_NAME  \\\n",
       "280              5.693074  5.923737  ...  CISPLATIN   \n",
       "1147             5.839640  5.742613  ...  CISPLATIN   \n",
       "\n",
       "                                         BROAD_ID  upper_limit      ec50  \\\n",
       "280   BRD-K69172251, BRD-K33494261, BRD-K01228321     0.985746  2.274467   \n",
       "1147  BRD-K69172251, BRD-K33494261, BRD-K01228321     0.934955  1.951074   \n",
       "\n",
       "         slope  lower_limit       auc  log2.ic50       mse       R2  \n",
       "280  -1.966950     0.821795  0.962421        NaN  0.000613  0.78342  \n",
       "1147 -1.668638     0.552481  0.868015        NaN  0.001241  0.92007  \n",
       "\n",
       "[2 rows x 270 columns]"
      ]
     },
     "execution_count": 5,
     "metadata": {},
     "output_type": "execute_result"
    }
   ],
   "source": [
    "X1 = working_data[(working_data['DRUG_NAME'] == 'CISPLATIN') & (working_data['lineage'] == 'lung') & (working_data['DATASET'] != 'GDSC1')]\n",
    "X1.head(2)"
   ]
  },
  {
   "cell_type": "code",
   "execution_count": 6,
   "id": "5a8cec72",
   "metadata": {},
   "outputs": [
    {
     "data": {
      "text/plain": [
       "(109, 270)"
      ]
     },
     "execution_count": 6,
     "metadata": {},
     "output_type": "execute_result"
    }
   ],
   "source": [
    "X1.shape"
   ]
  },
  {
   "cell_type": "code",
   "execution_count": 7,
   "id": "5af90900",
   "metadata": {},
   "outputs": [
    {
     "data": {
      "text/html": [
       "<div>\n",
       "<style scoped>\n",
       "    .dataframe tbody tr th:only-of-type {\n",
       "        vertical-align: middle;\n",
       "    }\n",
       "\n",
       "    .dataframe tbody tr th {\n",
       "        vertical-align: top;\n",
       "    }\n",
       "\n",
       "    .dataframe thead th {\n",
       "        text-align: right;\n",
       "    }\n",
       "</style>\n",
       "<table border=\"1\" class=\"dataframe\">\n",
       "  <thead>\n",
       "    <tr style=\"text-align: right;\">\n",
       "      <th></th>\n",
       "      <th>ID</th>\n",
       "      <th>2-aminoadipate</th>\n",
       "      <th>3-phosphoglycerate</th>\n",
       "      <th>alpha-glycerophosphate</th>\n",
       "      <th>4-pyridoxate</th>\n",
       "      <th>aconitate</th>\n",
       "      <th>adenine</th>\n",
       "      <th>adipate</th>\n",
       "      <th>alpha-ketoglutarate</th>\n",
       "      <th>AMP</th>\n",
       "      <th>...</th>\n",
       "      <th>DRUG_NAME</th>\n",
       "      <th>BROAD_ID</th>\n",
       "      <th>upper_limit</th>\n",
       "      <th>ec50</th>\n",
       "      <th>slope</th>\n",
       "      <th>lower_limit</th>\n",
       "      <th>auc</th>\n",
       "      <th>log2.ic50</th>\n",
       "      <th>mse</th>\n",
       "      <th>R2</th>\n",
       "    </tr>\n",
       "  </thead>\n",
       "  <tbody>\n",
       "    <tr>\n",
       "      <th>0</th>\n",
       "      <td>DMS53_LUNG</td>\n",
       "      <td>6.112727</td>\n",
       "      <td>6.034198</td>\n",
       "      <td>5.896896</td>\n",
       "      <td>6.000532</td>\n",
       "      <td>5.513618</td>\n",
       "      <td>5.868529</td>\n",
       "      <td>5.977177</td>\n",
       "      <td>5.693074</td>\n",
       "      <td>5.923737</td>\n",
       "      <td>...</td>\n",
       "      <td>CISPLATIN</td>\n",
       "      <td>BRD-K69172251, BRD-K33494261, BRD-K01228321</td>\n",
       "      <td>0.985746</td>\n",
       "      <td>2.274467</td>\n",
       "      <td>-1.966950</td>\n",
       "      <td>0.821795</td>\n",
       "      <td>0.962421</td>\n",
       "      <td>NaN</td>\n",
       "      <td>0.000613</td>\n",
       "      <td>0.78342</td>\n",
       "    </tr>\n",
       "    <tr>\n",
       "      <th>1</th>\n",
       "      <td>NCIH1694_LUNG</td>\n",
       "      <td>5.886398</td>\n",
       "      <td>5.574881</td>\n",
       "      <td>5.541259</td>\n",
       "      <td>5.848375</td>\n",
       "      <td>5.665026</td>\n",
       "      <td>5.875548</td>\n",
       "      <td>5.894904</td>\n",
       "      <td>5.839640</td>\n",
       "      <td>5.742613</td>\n",
       "      <td>...</td>\n",
       "      <td>CISPLATIN</td>\n",
       "      <td>BRD-K69172251, BRD-K33494261, BRD-K01228321</td>\n",
       "      <td>0.934955</td>\n",
       "      <td>1.951074</td>\n",
       "      <td>-1.668638</td>\n",
       "      <td>0.552481</td>\n",
       "      <td>0.868015</td>\n",
       "      <td>NaN</td>\n",
       "      <td>0.001241</td>\n",
       "      <td>0.92007</td>\n",
       "    </tr>\n",
       "  </tbody>\n",
       "</table>\n",
       "<p>2 rows × 270 columns</p>\n",
       "</div>"
      ],
      "text/plain": [
       "              ID  2-aminoadipate  3-phosphoglycerate  alpha-glycerophosphate  \\\n",
       "0     DMS53_LUNG        6.112727            6.034198                5.896896   \n",
       "1  NCIH1694_LUNG        5.886398            5.574881                5.541259   \n",
       "\n",
       "   4-pyridoxate  aconitate   adenine   adipate  alpha-ketoglutarate       AMP  \\\n",
       "0      6.000532   5.513618  5.868529  5.977177             5.693074  5.923737   \n",
       "1      5.848375   5.665026  5.875548  5.894904             5.839640  5.742613   \n",
       "\n",
       "   ...  DRUG_NAME                                     BROAD_ID  upper_limit  \\\n",
       "0  ...  CISPLATIN  BRD-K69172251, BRD-K33494261, BRD-K01228321     0.985746   \n",
       "1  ...  CISPLATIN  BRD-K69172251, BRD-K33494261, BRD-K01228321     0.934955   \n",
       "\n",
       "       ec50     slope  lower_limit       auc  log2.ic50       mse       R2  \n",
       "0  2.274467 -1.966950     0.821795  0.962421        NaN  0.000613  0.78342  \n",
       "1  1.951074 -1.668638     0.552481  0.868015        NaN  0.001241  0.92007  \n",
       "\n",
       "[2 rows x 270 columns]"
      ]
     },
     "execution_count": 7,
     "metadata": {},
     "output_type": "execute_result"
    }
   ],
   "source": [
    "X1.reset_index(inplace=True, drop=True)\n",
    "X1.head(2)"
   ]
  },
  {
   "cell_type": "code",
   "execution_count": 8,
   "id": "41f45edb",
   "metadata": {},
   "outputs": [
    {
     "data": {
      "text/html": [
       "<div>\n",
       "<style scoped>\n",
       "    .dataframe tbody tr th:only-of-type {\n",
       "        vertical-align: middle;\n",
       "    }\n",
       "\n",
       "    .dataframe tbody tr th {\n",
       "        vertical-align: top;\n",
       "    }\n",
       "\n",
       "    .dataframe thead th {\n",
       "        text-align: right;\n",
       "    }\n",
       "</style>\n",
       "<table border=\"1\" class=\"dataframe\">\n",
       "  <thead>\n",
       "    <tr style=\"text-align: right;\">\n",
       "      <th></th>\n",
       "      <th>2-aminoadipate</th>\n",
       "      <th>3-phosphoglycerate</th>\n",
       "      <th>alpha-glycerophosphate</th>\n",
       "      <th>4-pyridoxate</th>\n",
       "      <th>aconitate</th>\n",
       "      <th>adenine</th>\n",
       "      <th>adipate</th>\n",
       "      <th>alpha-ketoglutarate</th>\n",
       "      <th>AMP</th>\n",
       "      <th>citrate</th>\n",
       "      <th>...</th>\n",
       "      <th>C56:8 TAG</th>\n",
       "      <th>C56:7 TAG</th>\n",
       "      <th>C56:6 TAG</th>\n",
       "      <th>C56:5 TAG</th>\n",
       "      <th>C56:4 TAG</th>\n",
       "      <th>C56:3 TAG</th>\n",
       "      <th>C56:2 TAG</th>\n",
       "      <th>C58:8 TAG</th>\n",
       "      <th>C58:7 TAG</th>\n",
       "      <th>C58:6 TAG</th>\n",
       "    </tr>\n",
       "  </thead>\n",
       "  <tbody>\n",
       "    <tr>\n",
       "      <th>0</th>\n",
       "      <td>6.112727</td>\n",
       "      <td>6.034198</td>\n",
       "      <td>5.896896</td>\n",
       "      <td>6.000532</td>\n",
       "      <td>5.513618</td>\n",
       "      <td>5.868529</td>\n",
       "      <td>5.977177</td>\n",
       "      <td>5.693074</td>\n",
       "      <td>5.923737</td>\n",
       "      <td>5.641242</td>\n",
       "      <td>...</td>\n",
       "      <td>6.070239</td>\n",
       "      <td>6.133433</td>\n",
       "      <td>6.091089</td>\n",
       "      <td>6.257711</td>\n",
       "      <td>6.372732</td>\n",
       "      <td>6.202511</td>\n",
       "      <td>5.939576</td>\n",
       "      <td>6.309821</td>\n",
       "      <td>6.115974</td>\n",
       "      <td>5.999436</td>\n",
       "    </tr>\n",
       "    <tr>\n",
       "      <th>1</th>\n",
       "      <td>5.886398</td>\n",
       "      <td>5.574881</td>\n",
       "      <td>5.541259</td>\n",
       "      <td>5.848375</td>\n",
       "      <td>5.665026</td>\n",
       "      <td>5.875548</td>\n",
       "      <td>5.894904</td>\n",
       "      <td>5.839640</td>\n",
       "      <td>5.742613</td>\n",
       "      <td>5.570208</td>\n",
       "      <td>...</td>\n",
       "      <td>5.942887</td>\n",
       "      <td>5.946988</td>\n",
       "      <td>5.837980</td>\n",
       "      <td>5.913350</td>\n",
       "      <td>6.137530</td>\n",
       "      <td>5.807546</td>\n",
       "      <td>5.704149</td>\n",
       "      <td>5.881193</td>\n",
       "      <td>5.785208</td>\n",
       "      <td>5.504225</td>\n",
       "    </tr>\n",
       "  </tbody>\n",
       "</table>\n",
       "<p>2 rows × 225 columns</p>\n",
       "</div>"
      ],
      "text/plain": [
       "   2-aminoadipate  3-phosphoglycerate  alpha-glycerophosphate  4-pyridoxate  \\\n",
       "0        6.112727            6.034198                5.896896      6.000532   \n",
       "1        5.886398            5.574881                5.541259      5.848375   \n",
       "\n",
       "   aconitate   adenine   adipate  alpha-ketoglutarate       AMP   citrate  \\\n",
       "0   5.513618  5.868529  5.977177             5.693074  5.923737  5.641242   \n",
       "1   5.665026  5.875548  5.894904             5.839640  5.742613  5.570208   \n",
       "\n",
       "   ...  C56:8 TAG  C56:7 TAG  C56:6 TAG  C56:5 TAG  C56:4 TAG  C56:3 TAG  \\\n",
       "0  ...   6.070239   6.133433   6.091089   6.257711   6.372732   6.202511   \n",
       "1  ...   5.942887   5.946988   5.837980   5.913350   6.137530   5.807546   \n",
       "\n",
       "   C56:2 TAG  C58:8 TAG  C58:7 TAG  C58:6 TAG  \n",
       "0   5.939576   6.309821   6.115974   5.999436  \n",
       "1   5.704149   5.881193   5.785208   5.504225  \n",
       "\n",
       "[2 rows x 225 columns]"
      ]
     },
     "execution_count": 8,
     "metadata": {},
     "output_type": "execute_result"
    }
   ],
   "source": [
    "X_meta = X1[data.columns]\n",
    "X_meta.drop(columns = 'ID', inplace=True)\n",
    "X_meta.head(2)"
   ]
  },
  {
   "cell_type": "code",
   "execution_count": 9,
   "id": "49ba74e9",
   "metadata": {},
   "outputs": [
    {
     "data": {
      "text/html": [
       "<div>\n",
       "<style scoped>\n",
       "    .dataframe tbody tr th:only-of-type {\n",
       "        vertical-align: middle;\n",
       "    }\n",
       "\n",
       "    .dataframe tbody tr th {\n",
       "        vertical-align: top;\n",
       "    }\n",
       "\n",
       "    .dataframe thead th {\n",
       "        text-align: right;\n",
       "    }\n",
       "</style>\n",
       "<table border=\"1\" class=\"dataframe\">\n",
       "  <thead>\n",
       "    <tr style=\"text-align: right;\">\n",
       "      <th></th>\n",
       "      <th>2-aminoadipate</th>\n",
       "      <th>3-phosphoglycerate</th>\n",
       "      <th>alpha-glycerophosphate</th>\n",
       "      <th>4-pyridoxate</th>\n",
       "      <th>aconitate</th>\n",
       "      <th>adenine</th>\n",
       "      <th>adipate</th>\n",
       "      <th>alpha-ketoglutarate</th>\n",
       "      <th>AMP</th>\n",
       "      <th>citrate</th>\n",
       "      <th>...</th>\n",
       "      <th>C56:8 TAG</th>\n",
       "      <th>C56:7 TAG</th>\n",
       "      <th>C56:6 TAG</th>\n",
       "      <th>C56:5 TAG</th>\n",
       "      <th>C56:4 TAG</th>\n",
       "      <th>C56:3 TAG</th>\n",
       "      <th>C56:2 TAG</th>\n",
       "      <th>C58:8 TAG</th>\n",
       "      <th>C58:7 TAG</th>\n",
       "      <th>C58:6 TAG</th>\n",
       "    </tr>\n",
       "  </thead>\n",
       "  <tbody>\n",
       "    <tr>\n",
       "      <th>0</th>\n",
       "      <td>0.518028</td>\n",
       "      <td>0.546984</td>\n",
       "      <td>0.506365</td>\n",
       "      <td>0.590050</td>\n",
       "      <td>0.193808</td>\n",
       "      <td>0.439797</td>\n",
       "      <td>0.581755</td>\n",
       "      <td>0.365174</td>\n",
       "      <td>0.289218</td>\n",
       "      <td>0.263066</td>\n",
       "      <td>...</td>\n",
       "      <td>0.493031</td>\n",
       "      <td>0.604575</td>\n",
       "      <td>0.644839</td>\n",
       "      <td>0.716317</td>\n",
       "      <td>0.731688</td>\n",
       "      <td>0.698283</td>\n",
       "      <td>0.457498</td>\n",
       "      <td>0.734339</td>\n",
       "      <td>0.673020</td>\n",
       "      <td>0.504866</td>\n",
       "    </tr>\n",
       "    <tr>\n",
       "      <th>1</th>\n",
       "      <td>0.405670</td>\n",
       "      <td>0.162783</td>\n",
       "      <td>0.354900</td>\n",
       "      <td>0.476725</td>\n",
       "      <td>0.321570</td>\n",
       "      <td>0.443981</td>\n",
       "      <td>0.483184</td>\n",
       "      <td>0.485102</td>\n",
       "      <td>0.195147</td>\n",
       "      <td>0.208856</td>\n",
       "      <td>...</td>\n",
       "      <td>0.399137</td>\n",
       "      <td>0.482789</td>\n",
       "      <td>0.455334</td>\n",
       "      <td>0.493013</td>\n",
       "      <td>0.595671</td>\n",
       "      <td>0.486072</td>\n",
       "      <td>0.330999</td>\n",
       "      <td>0.506692</td>\n",
       "      <td>0.526081</td>\n",
       "      <td>0.255140</td>\n",
       "    </tr>\n",
       "  </tbody>\n",
       "</table>\n",
       "<p>2 rows × 225 columns</p>\n",
       "</div>"
      ],
      "text/plain": [
       "   2-aminoadipate  3-phosphoglycerate  alpha-glycerophosphate  4-pyridoxate  \\\n",
       "0        0.518028            0.546984                0.506365      0.590050   \n",
       "1        0.405670            0.162783                0.354900      0.476725   \n",
       "\n",
       "   aconitate   adenine   adipate  alpha-ketoglutarate       AMP   citrate  \\\n",
       "0   0.193808  0.439797  0.581755             0.365174  0.289218  0.263066   \n",
       "1   0.321570  0.443981  0.483184             0.485102  0.195147  0.208856   \n",
       "\n",
       "   ...  C56:8 TAG  C56:7 TAG  C56:6 TAG  C56:5 TAG  C56:4 TAG  C56:3 TAG  \\\n",
       "0  ...   0.493031   0.604575   0.644839   0.716317   0.731688   0.698283   \n",
       "1  ...   0.399137   0.482789   0.455334   0.493013   0.595671   0.486072   \n",
       "\n",
       "   C56:2 TAG  C58:8 TAG  C58:7 TAG  C58:6 TAG  \n",
       "0   0.457498   0.734339   0.673020   0.504866  \n",
       "1   0.330999   0.506692   0.526081   0.255140  \n",
       "\n",
       "[2 rows x 225 columns]"
      ]
     },
     "execution_count": 9,
     "metadata": {},
     "output_type": "execute_result"
    }
   ],
   "source": [
    "scaler = MinMaxScaler()\n",
    "X = pd.DataFrame(scaler.fit_transform(X_meta), columns = X_meta.columns)\n",
    "X.head(2)"
   ]
  },
  {
   "cell_type": "code",
   "execution_count": 10,
   "id": "f4238999",
   "metadata": {},
   "outputs": [],
   "source": [
    "labels, ic = [], list(X1.IC50_PUBLISHED)"
   ]
  },
  {
   "cell_type": "code",
   "execution_count": 11,
   "id": "ee4d9fbc",
   "metadata": {},
   "outputs": [
    {
     "data": {
      "text/plain": [
       "((109, 225), (109,))"
      ]
     },
     "execution_count": 11,
     "metadata": {},
     "output_type": "execute_result"
    }
   ],
   "source": [
    "for i in range(len(ic)):\n",
    "    #if the IC50_PUBLISHED value is greater than the mean, add responsive label to the label list\n",
    "    if ic[i] > 8.00:\n",
    "        labels.append('NR')\n",
    "    #if the IC50_PUBLISHED value is less than the mean, add non responsive label to the label list\n",
    "    elif ic[i] < 8.00 and ic[i] > 0.004:\n",
    "        labels.append('R')\n",
    "y = pd.Series(labels)\n",
    "X.shape, y.shape"
   ]
  },
  {
   "cell_type": "code",
   "execution_count": 12,
   "id": "5dcd024b",
   "metadata": {},
   "outputs": [
    {
     "data": {
      "text/plain": [
       "NR    91\n",
       "R     18\n",
       "dtype: int64"
      ]
     },
     "execution_count": 12,
     "metadata": {},
     "output_type": "execute_result"
    }
   ],
   "source": [
    "y.value_counts()"
   ]
  },
  {
   "cell_type": "code",
   "execution_count": 13,
   "id": "92fd52b8",
   "metadata": {},
   "outputs": [
    {
     "data": {
      "text/html": [
       "<style>#sk-container-id-1 {color: black;background-color: white;}#sk-container-id-1 pre{padding: 0;}#sk-container-id-1 div.sk-toggleable {background-color: white;}#sk-container-id-1 label.sk-toggleable__label {cursor: pointer;display: block;width: 100%;margin-bottom: 0;padding: 0.3em;box-sizing: border-box;text-align: center;}#sk-container-id-1 label.sk-toggleable__label-arrow:before {content: \"▸\";float: left;margin-right: 0.25em;color: #696969;}#sk-container-id-1 label.sk-toggleable__label-arrow:hover:before {color: black;}#sk-container-id-1 div.sk-estimator:hover label.sk-toggleable__label-arrow:before {color: black;}#sk-container-id-1 div.sk-toggleable__content {max-height: 0;max-width: 0;overflow: hidden;text-align: left;background-color: #f0f8ff;}#sk-container-id-1 div.sk-toggleable__content pre {margin: 0.2em;color: black;border-radius: 0.25em;background-color: #f0f8ff;}#sk-container-id-1 input.sk-toggleable__control:checked~div.sk-toggleable__content {max-height: 200px;max-width: 100%;overflow: auto;}#sk-container-id-1 input.sk-toggleable__control:checked~label.sk-toggleable__label-arrow:before {content: \"▾\";}#sk-container-id-1 div.sk-estimator input.sk-toggleable__control:checked~label.sk-toggleable__label {background-color: #d4ebff;}#sk-container-id-1 div.sk-label input.sk-toggleable__control:checked~label.sk-toggleable__label {background-color: #d4ebff;}#sk-container-id-1 input.sk-hidden--visually {border: 0;clip: rect(1px 1px 1px 1px);clip: rect(1px, 1px, 1px, 1px);height: 1px;margin: -1px;overflow: hidden;padding: 0;position: absolute;width: 1px;}#sk-container-id-1 div.sk-estimator {font-family: monospace;background-color: #f0f8ff;border: 1px dotted black;border-radius: 0.25em;box-sizing: border-box;margin-bottom: 0.5em;}#sk-container-id-1 div.sk-estimator:hover {background-color: #d4ebff;}#sk-container-id-1 div.sk-parallel-item::after {content: \"\";width: 100%;border-bottom: 1px solid gray;flex-grow: 1;}#sk-container-id-1 div.sk-label:hover label.sk-toggleable__label {background-color: #d4ebff;}#sk-container-id-1 div.sk-serial::before {content: \"\";position: absolute;border-left: 1px solid gray;box-sizing: border-box;top: 0;bottom: 0;left: 50%;z-index: 0;}#sk-container-id-1 div.sk-serial {display: flex;flex-direction: column;align-items: center;background-color: white;padding-right: 0.2em;padding-left: 0.2em;position: relative;}#sk-container-id-1 div.sk-item {position: relative;z-index: 1;}#sk-container-id-1 div.sk-parallel {display: flex;align-items: stretch;justify-content: center;background-color: white;position: relative;}#sk-container-id-1 div.sk-item::before, #sk-container-id-1 div.sk-parallel-item::before {content: \"\";position: absolute;border-left: 1px solid gray;box-sizing: border-box;top: 0;bottom: 0;left: 50%;z-index: -1;}#sk-container-id-1 div.sk-parallel-item {display: flex;flex-direction: column;z-index: 1;position: relative;background-color: white;}#sk-container-id-1 div.sk-parallel-item:first-child::after {align-self: flex-end;width: 50%;}#sk-container-id-1 div.sk-parallel-item:last-child::after {align-self: flex-start;width: 50%;}#sk-container-id-1 div.sk-parallel-item:only-child::after {width: 0;}#sk-container-id-1 div.sk-dashed-wrapped {border: 1px dashed gray;margin: 0 0.4em 0.5em 0.4em;box-sizing: border-box;padding-bottom: 0.4em;background-color: white;}#sk-container-id-1 div.sk-label label {font-family: monospace;font-weight: bold;display: inline-block;line-height: 1.2em;}#sk-container-id-1 div.sk-label-container {text-align: center;}#sk-container-id-1 div.sk-container {/* jupyter's `normalize.less` sets `[hidden] { display: none; }` but bootstrap.min.css set `[hidden] { display: none !important; }` so we also need the `!important` here to be able to override the default hidden behavior on the sphinx rendered scikit-learn.org. See: https://github.com/scikit-learn/scikit-learn/issues/21755 */display: inline-block !important;position: relative;}#sk-container-id-1 div.sk-text-repr-fallback {display: none;}</style><div id=\"sk-container-id-1\" class=\"sk-top-container\"><div class=\"sk-text-repr-fallback\"><pre>RFECV(cv=StratifiedKFold(n_splits=3, random_state=None, shuffle=False),\n",
       "      estimator=SVC(kernel=&#x27;linear&#x27;), scoring=&#x27;accuracy&#x27;)</pre><b>In a Jupyter environment, please rerun this cell to show the HTML representation or trust the notebook. <br />On GitHub, the HTML representation is unable to render, please try loading this page with nbviewer.org.</b></div><div class=\"sk-container\" hidden><div class=\"sk-item sk-dashed-wrapped\"><div class=\"sk-label-container\"><div class=\"sk-label sk-toggleable\"><input class=\"sk-toggleable__control sk-hidden--visually\" id=\"sk-estimator-id-1\" type=\"checkbox\" ><label for=\"sk-estimator-id-1\" class=\"sk-toggleable__label sk-toggleable__label-arrow\">RFECV</label><div class=\"sk-toggleable__content\"><pre>RFECV(cv=StratifiedKFold(n_splits=3, random_state=None, shuffle=False),\n",
       "      estimator=SVC(kernel=&#x27;linear&#x27;), scoring=&#x27;accuracy&#x27;)</pre></div></div></div><div class=\"sk-parallel\"><div class=\"sk-parallel-item\"><div class=\"sk-item\"><div class=\"sk-label-container\"><div class=\"sk-label sk-toggleable\"><input class=\"sk-toggleable__control sk-hidden--visually\" id=\"sk-estimator-id-2\" type=\"checkbox\" ><label for=\"sk-estimator-id-2\" class=\"sk-toggleable__label sk-toggleable__label-arrow\">estimator: SVC</label><div class=\"sk-toggleable__content\"><pre>SVC(kernel=&#x27;linear&#x27;)</pre></div></div></div><div class=\"sk-serial\"><div class=\"sk-item\"><div class=\"sk-estimator sk-toggleable\"><input class=\"sk-toggleable__control sk-hidden--visually\" id=\"sk-estimator-id-3\" type=\"checkbox\" ><label for=\"sk-estimator-id-3\" class=\"sk-toggleable__label sk-toggleable__label-arrow\">SVC</label><div class=\"sk-toggleable__content\"><pre>SVC(kernel=&#x27;linear&#x27;)</pre></div></div></div></div></div></div></div></div></div></div>"
      ],
      "text/plain": [
       "RFECV(cv=StratifiedKFold(n_splits=3, random_state=None, shuffle=False),\n",
       "      estimator=SVC(kernel='linear'), scoring='accuracy')"
      ]
     },
     "execution_count": 13,
     "metadata": {},
     "output_type": "execute_result"
    }
   ],
   "source": [
    "rfecv = RFECV(estimator = SVC(kernel='linear'), step=1, scoring='accuracy', cv=StratifiedKFold(3))\n",
    "rfecv.fit(X, y)"
   ]
  },
  {
   "cell_type": "code",
   "execution_count": 14,
   "id": "bba7c971",
   "metadata": {},
   "outputs": [
    {
     "data": {
      "text/plain": [
       "36"
      ]
     },
     "execution_count": 14,
     "metadata": {},
     "output_type": "execute_result"
    }
   ],
   "source": [
    "rfecv.n_features_"
   ]
  },
  {
   "cell_type": "code",
   "execution_count": null,
   "id": "90a73ef4",
   "metadata": {},
   "outputs": [],
   "source": [
    "#X = X[X.columns[features]]"
   ]
  },
  {
   "cell_type": "code",
   "execution_count": null,
   "id": "0f20762c",
   "metadata": {},
   "outputs": [],
   "source": [
    "#X.columns"
   ]
  },
  {
   "cell_type": "code",
   "execution_count": 15,
   "id": "29ee5050",
   "metadata": {},
   "outputs": [],
   "source": [
    "n_splits = 5\n",
    "kf = StratifiedKFold(n_splits = n_splits, random_state=101, shuffle=True)\n",
    "rkf = RepeatedStratifiedKFold(n_splits = n_splits, n_repeats = 10)\n",
    "model1 = SVC(kernel='linear', C=1)\n",
    "model2 = RandomForestClassifier(random_state=101)\n",
    "model3 = AdaBoostClassifier(base_estimator=RandomForestClassifier(random_state=101), n_estimators = 350, algorithm='SAMME', learning_rate=5.0)"
   ]
  },
  {
   "cell_type": "code",
   "execution_count": 31,
   "id": "22cecbfd",
   "metadata": {},
   "outputs": [],
   "source": [
    "acc_svm, acc_rf, acc_adb = [], [], []\n",
    "f1_svm, f1_rf, f1_adb = [], [], []\n",
    "feature_list_rfecv, feature_list_rfe = [], []\n",
    "cf_matrix_svm, cf_matrix_rf, cf_matrix_adb = [[0, 0], [0, 0]], [[0, 0], [0, 0]], [[0, 0], [0, 0]]\n",
    "for train_index, test_index in kf.split(X, y):\n",
    "    X_train, X_test = X.iloc[train_index], X.iloc[test_index]\n",
    "    y_train, y_test = y.iloc[train_index], y.iloc[test_index]\n",
    "    rfe = RFE(estimator=SVC(kernel='linear', C=1), step=1, n_features_to_select = rfecv.n_features_)\n",
    "    rfe.fit(X_train, y_train)\n",
    "    X_train_rfe = X_train[X_train.columns[rfe.get_support(1)]]\n",
    "    X_test_rfe = X_test[X_test.columns[rfe.get_support(1)]]\n",
    "    #print(X_train_new.columns)\n",
    "    #print(len(X_train_new.columns))\n",
    "    feature_list_rfe.append(X_train_rfe.columns.values.tolist())\n",
    "    model1.fit(X_train_rfe, y_train)\n",
    "    model2.fit(X_train_rfe, y_train)\n",
    "    model3.fit(X_train_rfe, y_train)\n",
    "    y_pred1 = model1.predict(X_test_rfe)\n",
    "    y_pred2 = model2.predict(X_test_rfe)\n",
    "    y_pred3 = model3.predict(X_test_rfe)\n",
    "    acc_svm.append(accuracy_score(y_test, y_pred1))\n",
    "    acc_rf.append(accuracy_score(y_test, y_pred2))\n",
    "    acc_adb.append(accuracy_score(y_test, y_pred3))\n",
    "    f1_svm.append(f1_score(y_test, y_pred1, average='weighted', pos_label = 'R'))\n",
    "    f1_rf.append(f1_score(y_test, y_pred2, average='weighted', pos_label = 'R'))\n",
    "    f1_adb.append(f1_score(y_test, y_pred3, average='weighted', pos_label = 'R'))\n",
    "    cf_matrix_svm += confusion_matrix(y_test, y_pred1)\n",
    "    cf_matrix_rf += confusion_matrix(y_test, y_pred2)\n",
    "    cf_matrix_adb += confusion_matrix(y_test, y_pred3)\n",
    "cf_matrix_svm = cf_matrix_svm\n",
    "cf_matrix_rf = cf_matrix_rf\n",
    "cf_matrix_adb = cf_matrix_adb"
   ]
  },
  {
   "cell_type": "code",
   "execution_count": 34,
   "id": "2285ee7f-3583-45a5-b511-8a9613a4fb80",
   "metadata": {},
   "outputs": [
    {
     "name": "stdout",
     "output_type": "stream",
     "text": [
      "[['3-phosphoglycerate', 'adenine', 'citrate', 'CMP', 'cystathionine', 'cytidine', 'DHAP/glyceraldehyde 3P', 'glutathione oxidized', 'NAD', 'oxalate', 'pantothenate', 'taurodeoxycholate/taurochenodeoxycholate', 'glutamine', 'tryptophan', 'ornithine', 'betaine', 'creatine', 'creatinine', 'cotinine', 'pipecolic acid', '1-methylnicotinamide', 'putrescine', 'acetylcarnitine', 'propionylcarnitine', 'lauroylcarnitine', 'C20:4 LPE', 'C22:6 LPE', 'C32:1 PC', 'C34:4 PC', 'C24:1 SM', 'C36:1 DAG', 'C22:6 CE', 'C50:0 TAG', 'C52:1 TAG', 'C54:1 TAG', 'C56:4 TAG'], ['aconitate', 'citrate', 'cystathionine', 'hexoses (HILIC neg)', 'NAD', 'NADP', 'glycodeoxycholate/glycochenodeoxycholate', 'phosphocreatine', '6-phosphogluconate', 'alpha-hydroxybutyrate', 'ornithine', 'homocysteine', '5-adenosylhomocysteine', 'alpha-glycerophosphocholine', 'trimethylamine-N-oxide', 'adenosine', '2-deoxycytidine', 'pipecolic acid', 'putrescine', 'lauroylcarnitine', 'palmitoylcarnitine', 'C20:4 LPE', 'C32:1 PC', 'C36:4 PC-A', 'C36:3 PC', 'C18:1 SM', 'C18:0 SM', 'C24:0 SM', 'C34:2 DAG', 'C14:0 CE', 'C50:2 TAG', 'C50:0 TAG', 'C52:1 TAG', 'C54:7 TAG', 'C54:3 TAG', 'C56:4 TAG'], ['alpha-glycerophosphate', 'aconitate', 'adenine', 'citrate', 'cystathionine', 'F1P/F6P/G1P/G6P', 'glutathione oxidized', 'pantothenate', 'glycodeoxycholate/glycochenodeoxycholate', 'taurodeoxycholate/taurochenodeoxycholate', '6-phosphogluconate', 'serine', 'glutamate', 'tryptophan', 'ornithine', 'homocysteine', 'kynurenic acid', 'betaine', 'alpha-glycerophosphocholine', 'trimethylamine-N-oxide', '2-deoxycytidine', 'cAMP', 'cotinine', 'pipecolic acid', 'lauroylcarnitine', 'stearoylcarnitine', 'sarcosine', 'C14:0 LPC', 'C16:0 LPE', 'C18:1 LPE', 'C20:4 LPE', 'C22:6 LPE', 'C32:1 PC', 'C32:0 PC', 'C36:3 PC', 'C34:2 DAG'], ['cystathionine', 'hexoses (HILIC neg)', 'glutathione oxidized', 'lactate', 'NADP', 'pantothenate', 'ribose-5-P/ribulose5-P', 'thymine', 'taurodeoxycholate/taurochenodeoxycholate', 'phosphocreatine', 'alanine', 'glutamate', '5-HIAA', 'homocysteine', 'anthranilic acid', 'betaine', 'choline', 'creatine', 'creatinine', 'thymidine', '2-deoxycytidine', 'pipecolic acid', 'propionylcarnitine', 'C18:0 LPE', 'C20:4 LPE', 'C32:1 PC', 'C36:3 PC', 'C36:1 PC', 'C38:2 PC', 'C16:1 SM', 'C18:2 SM', 'C24:1 SM', 'C22:6 CE', 'C54:1 TAG', 'C56:3 TAG', 'C56:2 TAG'], ['aconitate', 'adenine', 'citrate', 'cystathionine', 'erythrose-4-phosphate', 'hippurate', 'lactate', 'pantothenate', 'taurocholate', 'taurodeoxycholate/taurochenodeoxycholate', '6-phosphogluconate', 'asparagine', 'tryptophan', 'citrulline', 'homocysteine', 'anthranilic acid', '5-adenosylhomocysteine', 'creatinine', 'trimethylamine-N-oxide', 'thymidine', '2-deoxycytidine', 'cotinine', 'pipecolic acid', 'butyrobetaine', 'putrescine', 'palmitoylcarnitine', 'arachidonyl_carnitine', 'C20:4 LPE', 'C22:6 LPE', 'C32:1 PC', 'C18:2 SM', 'C24:1 SM', 'C34:1 DAG', 'C36:1 DAG', 'C50:0 TAG', 'C56:4 TAG']]\n"
     ]
    }
   ],
   "source": [
    "from collections import Counter\n",
    "print(feature_list_rfe)"
   ]
  },
  {
   "cell_type": "code",
   "execution_count": 36,
   "id": "2da16cf6-80f8-4abb-9a91-089f68d4f130",
   "metadata": {},
   "outputs": [
    {
     "name": "stdout",
     "output_type": "stream",
     "text": [
      "['3-phosphoglycerate', 'adenine', 'citrate', 'CMP', 'cystathionine', 'cytidine', 'DHAP/glyceraldehyde 3P', 'glutathione oxidized', 'NAD', 'oxalate', 'pantothenate', 'taurodeoxycholate/taurochenodeoxycholate', 'glutamine', 'tryptophan', 'ornithine', 'betaine', 'creatine', 'creatinine', 'cotinine', 'pipecolic acid', '1-methylnicotinamide', 'putrescine', 'acetylcarnitine', 'propionylcarnitine', 'lauroylcarnitine', 'C20:4 LPE', 'C22:6 LPE', 'C32:1 PC', 'C34:4 PC', 'C24:1 SM', 'C36:1 DAG', 'C22:6 CE', 'C50:0 TAG', 'C52:1 TAG', 'C54:1 TAG', 'C56:4 TAG', 'aconitate', 'citrate', 'cystathionine', 'hexoses (HILIC neg)', 'NAD', 'NADP', 'glycodeoxycholate/glycochenodeoxycholate', 'phosphocreatine', '6-phosphogluconate', 'alpha-hydroxybutyrate', 'ornithine', 'homocysteine', '5-adenosylhomocysteine', 'alpha-glycerophosphocholine', 'trimethylamine-N-oxide', 'adenosine', '2-deoxycytidine', 'pipecolic acid', 'putrescine', 'lauroylcarnitine', 'palmitoylcarnitine', 'C20:4 LPE', 'C32:1 PC', 'C36:4 PC-A', 'C36:3 PC', 'C18:1 SM', 'C18:0 SM', 'C24:0 SM', 'C34:2 DAG', 'C14:0 CE', 'C50:2 TAG', 'C50:0 TAG', 'C52:1 TAG', 'C54:7 TAG', 'C54:3 TAG', 'C56:4 TAG', 'alpha-glycerophosphate', 'aconitate', 'adenine', 'citrate', 'cystathionine', 'F1P/F6P/G1P/G6P', 'glutathione oxidized', 'pantothenate', 'glycodeoxycholate/glycochenodeoxycholate', 'taurodeoxycholate/taurochenodeoxycholate', '6-phosphogluconate', 'serine', 'glutamate', 'tryptophan', 'ornithine', 'homocysteine', 'kynurenic acid', 'betaine', 'alpha-glycerophosphocholine', 'trimethylamine-N-oxide', '2-deoxycytidine', 'cAMP', 'cotinine', 'pipecolic acid', 'lauroylcarnitine', 'stearoylcarnitine', 'sarcosine', 'C14:0 LPC', 'C16:0 LPE', 'C18:1 LPE', 'C20:4 LPE', 'C22:6 LPE', 'C32:1 PC', 'C32:0 PC', 'C36:3 PC', 'C34:2 DAG', 'cystathionine', 'hexoses (HILIC neg)', 'glutathione oxidized', 'lactate', 'NADP', 'pantothenate', 'ribose-5-P/ribulose5-P', 'thymine', 'taurodeoxycholate/taurochenodeoxycholate', 'phosphocreatine', 'alanine', 'glutamate', '5-HIAA', 'homocysteine', 'anthranilic acid', 'betaine', 'choline', 'creatine', 'creatinine', 'thymidine', '2-deoxycytidine', 'pipecolic acid', 'propionylcarnitine', 'C18:0 LPE', 'C20:4 LPE', 'C32:1 PC', 'C36:3 PC', 'C36:1 PC', 'C38:2 PC', 'C16:1 SM', 'C18:2 SM', 'C24:1 SM', 'C22:6 CE', 'C54:1 TAG', 'C56:3 TAG', 'C56:2 TAG', 'aconitate', 'adenine', 'citrate', 'cystathionine', 'erythrose-4-phosphate', 'hippurate', 'lactate', 'pantothenate', 'taurocholate', 'taurodeoxycholate/taurochenodeoxycholate', '6-phosphogluconate', 'asparagine', 'tryptophan', 'citrulline', 'homocysteine', 'anthranilic acid', '5-adenosylhomocysteine', 'creatinine', 'trimethylamine-N-oxide', 'thymidine', '2-deoxycytidine', 'cotinine', 'pipecolic acid', 'butyrobetaine', 'putrescine', 'palmitoylcarnitine', 'arachidonyl_carnitine', 'C20:4 LPE', 'C22:6 LPE', 'C32:1 PC', 'C18:2 SM', 'C24:1 SM', 'C34:1 DAG', 'C36:1 DAG', 'C50:0 TAG', 'C56:4 TAG']\n"
     ]
    }
   ],
   "source": [
    "featureCounts = []\n",
    "for x in feature_list_rfe:\n",
    "    for y in x:\n",
    "        featureCounts.append(y)\n",
    "print(featureCounts)"
   ]
  },
  {
   "cell_type": "code",
   "execution_count": 38,
   "id": "b292886b-ec76-4b84-b9a8-c59ac156c946",
   "metadata": {},
   "outputs": [
    {
     "data": {
      "text/plain": [
       "180"
      ]
     },
     "execution_count": 38,
     "metadata": {},
     "output_type": "execute_result"
    }
   ],
   "source": [
    "len(featureCounts)"
   ]
  },
  {
   "cell_type": "code",
   "execution_count": 37,
   "id": "5c3b5b05-8586-4f39-a48a-b0aee29a8065",
   "metadata": {},
   "outputs": [
    {
     "name": "stdout",
     "output_type": "stream",
     "text": [
      "Counter({'cystathionine': 5, 'pipecolic acid': 5, 'C20:4 LPE': 5, 'C32:1 PC': 5, 'citrate': 4, 'pantothenate': 4, 'taurodeoxycholate/taurochenodeoxycholate': 4, 'homocysteine': 4, '2-deoxycytidine': 4, 'adenine': 3, 'glutathione oxidized': 3, 'tryptophan': 3, 'ornithine': 3, 'betaine': 3, 'creatinine': 3, 'cotinine': 3, 'putrescine': 3, 'lauroylcarnitine': 3, 'C22:6 LPE': 3, 'C24:1 SM': 3, 'C50:0 TAG': 3, 'C56:4 TAG': 3, 'aconitate': 3, '6-phosphogluconate': 3, 'trimethylamine-N-oxide': 3, 'C36:3 PC': 3, 'NAD': 2, 'creatine': 2, 'propionylcarnitine': 2, 'C36:1 DAG': 2, 'C22:6 CE': 2, 'C52:1 TAG': 2, 'C54:1 TAG': 2, 'hexoses (HILIC neg)': 2, 'NADP': 2, 'glycodeoxycholate/glycochenodeoxycholate': 2, 'phosphocreatine': 2, '5-adenosylhomocysteine': 2, 'alpha-glycerophosphocholine': 2, 'palmitoylcarnitine': 2, 'C34:2 DAG': 2, 'glutamate': 2, 'lactate': 2, 'anthranilic acid': 2, 'thymidine': 2, 'C18:2 SM': 2, '3-phosphoglycerate': 1, 'CMP': 1, 'cytidine': 1, 'DHAP/glyceraldehyde 3P': 1, 'oxalate': 1, 'glutamine': 1, '1-methylnicotinamide': 1, 'acetylcarnitine': 1, 'C34:4 PC': 1, 'alpha-hydroxybutyrate': 1, 'adenosine': 1, 'C36:4 PC-A': 1, 'C18:1 SM': 1, 'C18:0 SM': 1, 'C24:0 SM': 1, 'C14:0 CE': 1, 'C50:2 TAG': 1, 'C54:7 TAG': 1, 'C54:3 TAG': 1, 'alpha-glycerophosphate': 1, 'F1P/F6P/G1P/G6P': 1, 'serine': 1, 'kynurenic acid': 1, 'cAMP': 1, 'stearoylcarnitine': 1, 'sarcosine': 1, 'C14:0 LPC': 1, 'C16:0 LPE': 1, 'C18:1 LPE': 1, 'C32:0 PC': 1, 'ribose-5-P/ribulose5-P': 1, 'thymine': 1, 'alanine': 1, '5-HIAA': 1, 'choline': 1, 'C18:0 LPE': 1, 'C36:1 PC': 1, 'C38:2 PC': 1, 'C16:1 SM': 1, 'C56:3 TAG': 1, 'C56:2 TAG': 1, 'erythrose-4-phosphate': 1, 'hippurate': 1, 'taurocholate': 1, 'asparagine': 1, 'citrulline': 1, 'butyrobetaine': 1, 'arachidonyl_carnitine': 1, 'C34:1 DAG': 1})\n"
     ]
    }
   ],
   "source": [
    "from collections import Counter\n",
    "print(Counter(featureCounts))"
   ]
  },
  {
   "cell_type": "code",
   "execution_count": 17,
   "id": "1c836b5e",
   "metadata": {},
   "outputs": [
    {
     "name": "stdout",
     "output_type": "stream",
     "text": [
      "Accuracy of SVM\n"
     ]
    },
    {
     "data": {
      "text/plain": [
       "0.789177489177489"
      ]
     },
     "execution_count": 17,
     "metadata": {},
     "output_type": "execute_result"
    }
   ],
   "source": [
    "print('Accuracy of SVM')\n",
    "sum(acc_svm)/len(acc_svm)"
   ]
  },
  {
   "cell_type": "code",
   "execution_count": 18,
   "id": "61075769",
   "metadata": {},
   "outputs": [
    {
     "name": "stdout",
     "output_type": "stream",
     "text": [
      "Accuracy of RF\n"
     ]
    },
    {
     "data": {
      "text/plain": [
       "0.8259740259740258"
      ]
     },
     "execution_count": 18,
     "metadata": {},
     "output_type": "execute_result"
    }
   ],
   "source": [
    "print('Accuracy of RF')\n",
    "sum(acc_rf)/len(acc_rf)"
   ]
  },
  {
   "cell_type": "code",
   "execution_count": 19,
   "id": "411d65d2",
   "metadata": {},
   "outputs": [
    {
     "name": "stdout",
     "output_type": "stream",
     "text": [
      "Accuracy of ADB\n"
     ]
    },
    {
     "data": {
      "text/plain": [
       "0.8168831168831169"
      ]
     },
     "execution_count": 19,
     "metadata": {},
     "output_type": "execute_result"
    }
   ],
   "source": [
    "print('Accuracy of ADB')\n",
    "sum(acc_adb)/len(acc_adb)"
   ]
  },
  {
   "cell_type": "code",
   "execution_count": 20,
   "id": "7d65c852",
   "metadata": {},
   "outputs": [
    {
     "name": "stdout",
     "output_type": "stream",
     "text": [
      "F1 score for SVM\n"
     ]
    },
    {
     "data": {
      "text/plain": [
       "0.7646237498869078"
      ]
     },
     "execution_count": 20,
     "metadata": {},
     "output_type": "execute_result"
    }
   ],
   "source": [
    "print('F1 score for SVM')\n",
    "sum(f1_svm)/len(f1_svm)"
   ]
  },
  {
   "cell_type": "code",
   "execution_count": 21,
   "id": "ad720381",
   "metadata": {},
   "outputs": [
    {
     "name": "stdout",
     "output_type": "stream",
     "text": [
      "F1 score for RF\n"
     ]
    },
    {
     "data": {
      "text/plain": [
       "0.7667932153426376"
      ]
     },
     "execution_count": 21,
     "metadata": {},
     "output_type": "execute_result"
    }
   ],
   "source": [
    "print('F1 score for RF')\n",
    "sum(f1_rf)/len(f1_rf)"
   ]
  },
  {
   "cell_type": "code",
   "execution_count": 22,
   "id": "9ae9dc5c",
   "metadata": {},
   "outputs": [
    {
     "name": "stdout",
     "output_type": "stream",
     "text": [
      "F1 score for ADB\n"
     ]
    },
    {
     "data": {
      "text/plain": [
       "0.7601734718807889"
      ]
     },
     "execution_count": 22,
     "metadata": {},
     "output_type": "execute_result"
    }
   ],
   "source": [
    "print('F1 score for ADB')\n",
    "sum(f1_adb)/len(f1_adb)"
   ]
  },
  {
   "cell_type": "code",
   "execution_count": 23,
   "id": "d77270cb",
   "metadata": {},
   "outputs": [
    {
     "data": {
      "image/png": "[encoded data removed]",
      "text/plain": [
       "<Figure size 640x480 with 2 Axes>"
      ]
     },
     "metadata": {},
     "output_type": "display_data"
    }
   ],
   "source": [
    "ax = sns.heatmap(cf_matrix_svm, annot=True, cmap='Blues')\n",
    "ax.set_title('Cummulative Confusion Matrix for SVM')\n",
    "ax.set_xlabel('Predicted labels')\n",
    "ax.set_ylabel('True labels')\n",
    "ax.xaxis.set_ticklabels(['NR', 'R'])\n",
    "ax.yaxis.set_ticklabels(['NR', 'R'])\n",
    "plt.show()"
   ]
  },
  {
   "cell_type": "code",
   "execution_count": 24,
   "id": "732b50b1",
   "metadata": {},
   "outputs": [
    {
     "data": {
      "image/png": "[encoded data removed]",
      "text/plain": [
       "<Figure size 640x480 with 2 Axes>"
      ]
     },
     "metadata": {},
     "output_type": "display_data"
    }
   ],
   "source": [
    "ax = sns.heatmap(cf_matrix_rf, annot=True, cmap='Blues')\n",
    "ax.set_title('Cummulative Confusion Matrix for RF')\n",
    "ax.set_xlabel('Predicted labels')\n",
    "ax.set_ylabel('True labels')\n",
    "ax.xaxis.set_ticklabels(['NR', 'R'])\n",
    "ax.yaxis.set_ticklabels(['NR', 'R'])\n",
    "plt.show()"
   ]
  },
  {
   "cell_type": "code",
   "execution_count": 25,
   "id": "0ff51539",
   "metadata": {},
   "outputs": [
    {
     "data": {
      "image/png": "[encoded data removed]",
      "text/plain": [
       "<Figure size 640x480 with 2 Axes>"
      ]
     },
     "metadata": {},
     "output_type": "display_data"
    }
   ],
   "source": [
    "ax = sns.heatmap(cf_matrix_adb, annot=True, cmap='Blues')\n",
    "ax.set_title('Cummulative Confusion Matrix for ADB')\n",
    "ax.set_xlabel('Predicted labels')\n",
    "ax.set_ylabel('True labels')\n",
    "ax.xaxis.set_ticklabels(['NR', 'R'])\n",
    "ax.yaxis.set_ticklabels(['NR', 'R'])\n",
    "plt.show()"
   ]
  },
  {
   "cell_type": "code",
   "execution_count": null,
   "id": "9a5b7e46",
   "metadata": {},
   "outputs": [],
   "source": []
  }
 ],
 "metadata": {
  "kernelspec": {
   "display_name": "Python 3 (ipykernel)",
   "language": "python",
   "name": "python3"
  },
  "language_info": {
   "codemirror_mode": {
    "name": "ipython",
    "version": 3
   },
   "file_extension": ".py",
   "mimetype": "text/x-python",
   "name": "python",
   "nbconvert_exporter": "python",
   "pygments_lexer": "ipython3",
   "version": "3.8.8"
  }
 },
 "nbformat": 4,
 "nbformat_minor": 5
}
