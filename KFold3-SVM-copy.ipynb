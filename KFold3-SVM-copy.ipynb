{
 "cells": [
  {
   "cell_type": "code",
   "execution_count": 1,
   "id": "9defca5a",
   "metadata": {},
   "outputs": [],
   "source": [
    "import pandas as pd\n",
    "import seaborn as sns\n",
    "import matplotlib as plt\n",
    "import numpy as np\n",
    "from sklearn import svm\n",
    "from sklearn.model_selection import train_test_split, LeaveOneOut, KFold,cross_validate, cross_val_score\n",
    "from sklearn.metrics import accuracy_score, classification_report"
   ]
  },
  {
   "cell_type": "code",
   "execution_count": 2,
   "id": "a0d08eef",
   "metadata": {},
   "outputs": [
    {
     "name": "stderr",
     "output_type": "stream",
     "text": [
      "C:\\Users\\nilav\\anaconda3\\lib\\site-packages\\openpyxl\\worksheet\\_reader.py:312: UserWarning: Unknown extension is not supported and will be removed\n",
      "  warn(msg)\n"
     ]
    }
   ],
   "source": [
    "data = pd.read_excel(\"D:\\\\GaTech\\\\BIOL 8901\\\\Metabolomic Project\\\\metabolomic_data.xlsx\", sheet_name=\"1-clean data\")\n",
    "data.rename(columns = {'Unnamed: 0': 'ID'}, inplace = True)\n",
    "sample = pd.read_csv(\"D:\\\\GaTech\\\\BIOL 8901\\\\sample_info.csv\")\n",
    "sample.rename(columns = {'CCLE_Name':'ID'}, inplace=True)\n",
    "merged_data = data.merge(sample, on='ID')\n",
    "drug = pd.read_csv('D:\\\\GaTech\\\\BIOL 8901\\\\sanger-dose-response.csv')\n",
    "drug.rename(columns={'ARXSPAN_ID':'DepMap_ID'}, inplace = True)\n",
    "working_data = merged_data.merge(drug, on='DepMap_ID')"
   ]
  },
  {
   "cell_type": "code",
   "execution_count": 3,
   "id": "4ff48067",
   "metadata": {},
   "outputs": [],
   "source": [
    "working_data.fillna(0, inplace=True)"
   ]
  },
  {
   "cell_type": "code",
   "execution_count": 4,
   "id": "db4ffa48",
   "metadata": {},
   "outputs": [],
   "source": [
    "X = working_data.select_dtypes('float64')"
   ]
  },
  {
   "cell_type": "code",
   "execution_count": 6,
   "id": "bf54d291",
   "metadata": {},
   "outputs": [
    {
     "data": {
      "text/html": [
       "<div>\n",
       "<style scoped>\n",
       "    .dataframe tbody tr th:only-of-type {\n",
       "        vertical-align: middle;\n",
       "    }\n",
       "\n",
       "    .dataframe tbody tr th {\n",
       "        vertical-align: top;\n",
       "    }\n",
       "\n",
       "    .dataframe thead th {\n",
       "        text-align: right;\n",
       "    }\n",
       "</style>\n",
       "<table border=\"1\" class=\"dataframe\">\n",
       "  <thead>\n",
       "    <tr style=\"text-align: right;\">\n",
       "      <th></th>\n",
       "      <th>2-aminoadipate</th>\n",
       "      <th>3-phosphoglycerate</th>\n",
       "      <th>alpha-glycerophosphate</th>\n",
       "      <th>4-pyridoxate</th>\n",
       "      <th>aconitate</th>\n",
       "      <th>adenine</th>\n",
       "      <th>adipate</th>\n",
       "      <th>alpha-ketoglutarate</th>\n",
       "      <th>AMP</th>\n",
       "      <th>citrate</th>\n",
       "      <th>...</th>\n",
       "      <th>IC50_PUBLISHED</th>\n",
       "      <th>AUC_PUBLISHED</th>\n",
       "      <th>upper_limit</th>\n",
       "      <th>ec50</th>\n",
       "      <th>slope</th>\n",
       "      <th>lower_limit</th>\n",
       "      <th>auc</th>\n",
       "      <th>log2.ic50</th>\n",
       "      <th>mse</th>\n",
       "      <th>R2</th>\n",
       "    </tr>\n",
       "  </thead>\n",
       "  <tbody>\n",
       "    <tr>\n",
       "      <th>0</th>\n",
       "      <td>0.3953</td>\n",
       "      <td>0.621262</td>\n",
       "      <td>0.546764</td>\n",
       "      <td>0.459783</td>\n",
       "      <td>0.417356</td>\n",
       "      <td>0.380599</td>\n",
       "      <td>0.587679</td>\n",
       "      <td>0.438061</td>\n",
       "      <td>0.405262</td>\n",
       "      <td>0.587155</td>\n",
       "      <td>...</td>\n",
       "      <td>0.000006</td>\n",
       "      <td>0.892457</td>\n",
       "      <td>5.145282e-07</td>\n",
       "      <td>2.412979e-306</td>\n",
       "      <td>0.84005</td>\n",
       "      <td>1.0</td>\n",
       "      <td>0.90019</td>\n",
       "      <td>0.516014</td>\n",
       "      <td>1.779677e-07</td>\n",
       "      <td>1.0</td>\n",
       "    </tr>\n",
       "  </tbody>\n",
       "</table>\n",
       "<p>1 rows × 244 columns</p>\n",
       "</div>"
      ],
      "text/plain": [
       "   2-aminoadipate  3-phosphoglycerate  alpha-glycerophosphate  4-pyridoxate  \\\n",
       "0          0.3953            0.621262                0.546764      0.459783   \n",
       "\n",
       "   aconitate   adenine   adipate  alpha-ketoglutarate       AMP   citrate  \\\n",
       "0   0.417356  0.380599  0.587679             0.438061  0.405262  0.587155   \n",
       "\n",
       "   ...  IC50_PUBLISHED  AUC_PUBLISHED   upper_limit           ec50    slope  \\\n",
       "0  ...        0.000006       0.892457  5.145282e-07  2.412979e-306  0.84005   \n",
       "\n",
       "   lower_limit      auc  log2.ic50           mse   R2  \n",
       "0          1.0  0.90019   0.516014  1.779677e-07  1.0  \n",
       "\n",
       "[1 rows x 244 columns]"
      ]
     },
     "execution_count": 6,
     "metadata": {},
     "output_type": "execute_result"
    }
   ],
   "source": [
    "X_min = X.min()\n",
    "X_max = X.max()\n",
    "X_range = (X_max-X_min)\n",
    "X_scaled = (X-X_min)/(X_range)\n",
    "X_scaled.head(1)"
   ]
  },
  {
   "cell_type": "code",
   "execution_count": 12,
   "id": "80d2a1d5",
   "metadata": {},
   "outputs": [],
   "source": [
    "drug_mean = X_scaled['IC50_PUBLISHED'].mean()"
   ]
  },
  {
   "cell_type": "code",
   "execution_count": 26,
   "id": "a4379c4b",
   "metadata": {},
   "outputs": [],
   "source": [
    "ic, labels = X_scaled['IC50_PUBLISHED'], []\n",
    "for i in range(len(ic)):\n",
    "    if ic[i] > drug_mean:\n",
    "        labels.append(1.0)\n",
    "    elif ic[i] < drug_mean:\n",
    "        labels.append(0.0)\n",
    "        \n",
    "X_scaled['labels'] = labels\n",
    "y = X_scaled['labels']"
   ]
  },
  {
   "cell_type": "code",
   "execution_count": 28,
   "id": "822d75ed",
   "metadata": {},
   "outputs": [
    {
     "data": {
      "text/plain": [
       "0.0    209880\n",
       "1.0     42006\n",
       "Name: labels, dtype: int64"
      ]
     },
     "execution_count": 28,
     "metadata": {},
     "output_type": "execute_result"
    }
   ],
   "source": [
    "y.value_counts()"
   ]
  },
  {
   "cell_type": "code",
   "execution_count": 33,
   "id": "4cd50868",
   "metadata": {},
   "outputs": [
    {
     "name": "stdout",
     "output_type": "stream",
     "text": [
      "Current fold iteration: 1\n",
      "   Accurancy on Train  Accurancy on Test\n",
      "0                 1.0                1.0\n",
      "Current fold iteration: 2\n",
      "   Accurancy on Train  Accurancy on Test\n",
      "0                 1.0                1.0\n",
      "Current fold iteration: 3\n",
      "   Accurancy on Train  Accurancy on Test\n",
      "0                 1.0                1.0\n"
     ]
    }
   ],
   "source": [
    "kf3 = KFold(n_splits=3, shuffle=False)\n",
    "# loo = LeaveOneOut()\n",
    "# loo.get_n_splits(X_scaled)\n",
    "i=1 \n",
    "model = svm.SVC(kernel='linear', C=1)\n",
    "for train_index, test_index in kf3.split(X_scaled):\n",
    "    X_train, X_test = X_scaled.iloc[train_index], X_scaled.iloc[test_index]\n",
    "    y_train, y_test = y.iloc[train_index], y.iloc[test_index]\n",
    "\n",
    "    print(f\"Current fold iteration: {i}\")\n",
    "    model.fit(X_train, y_train)\n",
    "    print(pd.DataFrame({\"Accurancy on Train\":[accuracy_score(y_train, model.predict(X_train))],\n",
    "    \"Accurancy on Test\":[accuracy_score(y_test, model.predict(X_test))]}))\n",
    "    i+=1"
   ]
  },
  {
   "cell_type": "code",
   "execution_count": null,
   "id": "5eedd315",
   "metadata": {},
   "outputs": [],
   "source": []
  }
 ],
 "metadata": {
  "kernelspec": {
   "display_name": "Python 3 (ipykernel)",
   "language": "python",
   "name": "python3"
  },
  "language_info": {
   "codemirror_mode": {
    "name": "ipython",
    "version": 3
   },
   "file_extension": ".py",
   "mimetype": "text/x-python",
   "name": "python",
   "nbconvert_exporter": "python",
   "pygments_lexer": "ipython3",
   "version": "3.8.8"
  }
 },
 "nbformat": 4,
 "nbformat_minor": 5
}
