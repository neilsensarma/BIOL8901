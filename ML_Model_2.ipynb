{
 "cells": [
  {
   "cell_type": "code",
   "execution_count": 1,
   "id": "20737041",
   "metadata": {},
   "outputs": [],
   "source": [
    "import pandas as pd\n",
    "import seaborn as sns\n",
    "import matplotlib as plt\n",
    "import numpy as np\n",
    "from sklearn import svm\n",
    "from sklearn.model_selection import train_test_split as tts"
   ]
  },
  {
   "cell_type": "code",
   "execution_count": 2,
   "id": "748ad68c",
   "metadata": {},
   "outputs": [
    {
     "name": "stderr",
     "output_type": "stream",
     "text": [
      "C:\\Users\\nilav\\anaconda3\\lib\\site-packages\\openpyxl\\worksheet\\_reader.py:312: UserWarning: Unknown extension is not supported and will be removed\n",
      "  warn(msg)\n"
     ]
    }
   ],
   "source": [
    "data = pd.read_excel(\"D:\\\\GaTech\\\\BIOL 8901\\\\Metabolomic Project\\\\metabolomic_data.xlsx\", sheet_name=\"1-clean data\")\n",
    "data.rename(columns = {'Unnamed: 0': 'ID'}, inplace = True)"
   ]
  },
  {
   "cell_type": "code",
   "execution_count": 13,
   "id": "a749b663",
   "metadata": {},
   "outputs": [],
   "source": [
    "sample = pd.read_csv(\"D:\\\\GaTech\\\\BIOL 8901\\\\sample_info.csv\")\n",
    "sample.rename(columns = {'CCLE_Name':'ID'}, inplace=True)\n",
    "merged_data = data.merge(sample, on='ID')\n",
    "drug = pd.read_csv('D:\\\\GaTech\\\\BIOL 8901\\\\sanger-dose-response.csv')\n",
    "drug.rename(columns={'ARXSPAN_ID':'DepMap_ID'}, inplace = True)\n",
    "working_data = merged_data.merge(drug, on='DepMap_ID')"
   ]
  },
  {
   "cell_type": "code",
   "execution_count": 38,
   "id": "3e493941",
   "metadata": {},
   "outputs": [],
   "source": [
    "#drop the columns with NaN in them (not sure if this is the correct way)\n",
    "\n",
    "wd = working_data.select_dtypes(np.number).dropna(axis=1, how='all')"
   ]
  },
  {
   "cell_type": "code",
   "execution_count": 48,
   "id": "2850da68",
   "metadata": {},
   "outputs": [
    {
     "data": {
      "text/html": [
       "<div>\n",
       "<style scoped>\n",
       "    .dataframe tbody tr th:only-of-type {\n",
       "        vertical-align: middle;\n",
       "    }\n",
       "\n",
       "    .dataframe tbody tr th {\n",
       "        vertical-align: top;\n",
       "    }\n",
       "\n",
       "    .dataframe thead th {\n",
       "        text-align: right;\n",
       "    }\n",
       "</style>\n",
       "<table border=\"1\" class=\"dataframe\">\n",
       "  <thead>\n",
       "    <tr style=\"text-align: right;\">\n",
       "      <th></th>\n",
       "      <th>2-aminoadipate</th>\n",
       "      <th>3-phosphoglycerate</th>\n",
       "      <th>alpha-glycerophosphate</th>\n",
       "      <th>4-pyridoxate</th>\n",
       "      <th>aconitate</th>\n",
       "      <th>adenine</th>\n",
       "      <th>adipate</th>\n",
       "      <th>alpha-ketoglutarate</th>\n",
       "      <th>AMP</th>\n",
       "      <th>citrate</th>\n",
       "      <th>...</th>\n",
       "      <th>upper_limit</th>\n",
       "      <th>ec50</th>\n",
       "      <th>slope</th>\n",
       "      <th>lower_limit</th>\n",
       "      <th>auc</th>\n",
       "      <th>log2.ic50</th>\n",
       "      <th>mse</th>\n",
       "      <th>R2</th>\n",
       "      <th>IC50_normalized</th>\n",
       "      <th>labels</th>\n",
       "    </tr>\n",
       "  </thead>\n",
       "  <tbody>\n",
       "    <tr>\n",
       "      <th>0</th>\n",
       "      <td>6.112727</td>\n",
       "      <td>6.034198</td>\n",
       "      <td>5.896896</td>\n",
       "      <td>6.000532</td>\n",
       "      <td>5.513618</td>\n",
       "      <td>5.868529</td>\n",
       "      <td>5.977177</td>\n",
       "      <td>5.693074</td>\n",
       "      <td>5.923737</td>\n",
       "      <td>5.641242</td>\n",
       "      <td>...</td>\n",
       "      <td>0.932547</td>\n",
       "      <td>0.653387</td>\n",
       "      <td>-8.901463</td>\n",
       "      <td>0.535007</td>\n",
       "      <td>0.90019</td>\n",
       "      <td>NaN</td>\n",
       "      <td>0.001151</td>\n",
       "      <td>0.927925</td>\n",
       "      <td>0.594693</td>\n",
       "      <td>NR</td>\n",
       "    </tr>\n",
       "  </tbody>\n",
       "</table>\n",
       "<p>1 rows × 248 columns</p>\n",
       "</div>"
      ],
      "text/plain": [
       "   2-aminoadipate  3-phosphoglycerate  alpha-glycerophosphate  4-pyridoxate  \\\n",
       "0        6.112727            6.034198                5.896896      6.000532   \n",
       "\n",
       "   aconitate   adenine   adipate  alpha-ketoglutarate       AMP   citrate  \\\n",
       "0   5.513618  5.868529  5.977177             5.693074  5.923737  5.641242   \n",
       "\n",
       "   ...  upper_limit      ec50     slope  lower_limit      auc  log2.ic50  \\\n",
       "0  ...     0.932547  0.653387 -8.901463     0.535007  0.90019        NaN   \n",
       "\n",
       "        mse        R2  IC50_normalized  labels  \n",
       "0  0.001151  0.927925         0.594693      NR  \n",
       "\n",
       "[1 rows x 248 columns]"
      ]
     },
     "execution_count": 48,
     "metadata": {},
     "output_type": "execute_result"
    }
   ],
   "source": [
    "wd.head(1)"
   ]
  },
  {
   "cell_type": "code",
   "execution_count": 40,
   "id": "6c5f657c",
   "metadata": {},
   "outputs": [],
   "source": [
    "wd['IC50_normalized'] = np.log2(wd['IC50_PUBLISHED'])"
   ]
  },
  {
   "cell_type": "code",
   "execution_count": 42,
   "id": "389106a6",
   "metadata": {},
   "outputs": [
    {
     "data": {
      "text/html": [
       "<div>\n",
       "<style scoped>\n",
       "    .dataframe tbody tr th:only-of-type {\n",
       "        vertical-align: middle;\n",
       "    }\n",
       "\n",
       "    .dataframe tbody tr th {\n",
       "        vertical-align: top;\n",
       "    }\n",
       "\n",
       "    .dataframe thead th {\n",
       "        text-align: right;\n",
       "    }\n",
       "</style>\n",
       "<table border=\"1\" class=\"dataframe\">\n",
       "  <thead>\n",
       "    <tr style=\"text-align: right;\">\n",
       "      <th></th>\n",
       "      <th>IC50_normalized</th>\n",
       "    </tr>\n",
       "  </thead>\n",
       "  <tbody>\n",
       "    <tr>\n",
       "      <th>0</th>\n",
       "      <td>0.594693</td>\n",
       "    </tr>\n",
       "  </tbody>\n",
       "</table>\n",
       "</div>"
      ],
      "text/plain": [
       "   IC50_normalized\n",
       "0         0.594693"
      ]
     },
     "execution_count": 42,
     "metadata": {},
     "output_type": "execute_result"
    }
   ],
   "source": [
    "wd[['IC50_normalized']].head(1)"
   ]
  },
  {
   "cell_type": "code",
   "execution_count": 43,
   "id": "1e729b58",
   "metadata": {},
   "outputs": [],
   "source": [
    "drug_mean = wd['IC50_normalized'].mean()"
   ]
  },
  {
   "cell_type": "code",
   "execution_count": 44,
   "id": "ad91d476",
   "metadata": {},
   "outputs": [],
   "source": [
    "#Create labels based on their IC50 response being >< +-0.5 of the mean value as R (responsive) or NR (not responsive)\n",
    "\n",
    "ic, labels = wd['IC50_normalized'], []\n",
    "for i in range(len(ic)):\n",
    "    if ic[i] > drug_mean+0.5:\n",
    "        labels.append(\"R\")\n",
    "    elif ic[i] < drug_mean+0.5:\n",
    "        labels.append(\"NR\")"
   ]
  },
  {
   "cell_type": "code",
   "execution_count": 45,
   "id": "6bca755e",
   "metadata": {},
   "outputs": [],
   "source": [
    "wd['labels'] = labels"
   ]
  },
  {
   "cell_type": "code",
   "execution_count": 47,
   "id": "4b08915c",
   "metadata": {},
   "outputs": [
    {
     "data": {
      "text/html": [
       "<div>\n",
       "<style scoped>\n",
       "    .dataframe tbody tr th:only-of-type {\n",
       "        vertical-align: middle;\n",
       "    }\n",
       "\n",
       "    .dataframe tbody tr th {\n",
       "        vertical-align: top;\n",
       "    }\n",
       "\n",
       "    .dataframe thead th {\n",
       "        text-align: right;\n",
       "    }\n",
       "</style>\n",
       "<table border=\"1\" class=\"dataframe\">\n",
       "  <thead>\n",
       "    <tr style=\"text-align: right;\">\n",
       "      <th></th>\n",
       "      <th>2-aminoadipate</th>\n",
       "      <th>3-phosphoglycerate</th>\n",
       "      <th>alpha-glycerophosphate</th>\n",
       "      <th>4-pyridoxate</th>\n",
       "      <th>aconitate</th>\n",
       "      <th>adenine</th>\n",
       "      <th>adipate</th>\n",
       "      <th>alpha-ketoglutarate</th>\n",
       "      <th>AMP</th>\n",
       "      <th>citrate</th>\n",
       "      <th>...</th>\n",
       "      <th>upper_limit</th>\n",
       "      <th>ec50</th>\n",
       "      <th>slope</th>\n",
       "      <th>lower_limit</th>\n",
       "      <th>auc</th>\n",
       "      <th>log2.ic50</th>\n",
       "      <th>mse</th>\n",
       "      <th>R2</th>\n",
       "      <th>IC50_normalized</th>\n",
       "      <th>labels</th>\n",
       "    </tr>\n",
       "  </thead>\n",
       "  <tbody>\n",
       "    <tr>\n",
       "      <th>0</th>\n",
       "      <td>6.112727</td>\n",
       "      <td>6.034198</td>\n",
       "      <td>5.896896</td>\n",
       "      <td>6.000532</td>\n",
       "      <td>5.513618</td>\n",
       "      <td>5.868529</td>\n",
       "      <td>5.977177</td>\n",
       "      <td>5.693074</td>\n",
       "      <td>5.923737</td>\n",
       "      <td>5.641242</td>\n",
       "      <td>...</td>\n",
       "      <td>0.932547</td>\n",
       "      <td>0.653387</td>\n",
       "      <td>-8.901463</td>\n",
       "      <td>0.535007</td>\n",
       "      <td>0.90019</td>\n",
       "      <td>NaN</td>\n",
       "      <td>0.001151</td>\n",
       "      <td>0.927925</td>\n",
       "      <td>0.594693</td>\n",
       "      <td>NR</td>\n",
       "    </tr>\n",
       "  </tbody>\n",
       "</table>\n",
       "<p>1 rows × 248 columns</p>\n",
       "</div>"
      ],
      "text/plain": [
       "   2-aminoadipate  3-phosphoglycerate  alpha-glycerophosphate  4-pyridoxate  \\\n",
       "0        6.112727            6.034198                5.896896      6.000532   \n",
       "\n",
       "   aconitate   adenine   adipate  alpha-ketoglutarate       AMP   citrate  \\\n",
       "0   5.513618  5.868529  5.977177             5.693074  5.923737  5.641242   \n",
       "\n",
       "   ...  upper_limit      ec50     slope  lower_limit      auc  log2.ic50  \\\n",
       "0  ...     0.932547  0.653387 -8.901463     0.535007  0.90019        NaN   \n",
       "\n",
       "        mse        R2  IC50_normalized  labels  \n",
       "0  0.001151  0.927925         0.594693      NR  \n",
       "\n",
       "[1 rows x 248 columns]"
      ]
     },
     "execution_count": 47,
     "metadata": {},
     "output_type": "execute_result"
    }
   ],
   "source": [
    "wd.head(1)"
   ]
  },
  {
   "cell_type": "code",
   "execution_count": 50,
   "id": "c09f17bb",
   "metadata": {},
   "outputs": [],
   "source": [
    "y = wd['labels']\n",
    "X = wd.select_dtypes('float64')"
   ]
  },
  {
   "cell_type": "code",
   "execution_count": 51,
   "id": "c77e13cc",
   "metadata": {},
   "outputs": [],
   "source": [
    "X_train, X_test, y_train, y_test = tts(X, y, test_size=0.4, random_state=42)"
   ]
  },
  {
   "cell_type": "code",
   "execution_count": 52,
   "id": "975d801b",
   "metadata": {},
   "outputs": [
    {
     "data": {
      "text/plain": [
       "242923    R\n",
       "Name: labels, dtype: object"
      ]
     },
     "execution_count": 52,
     "metadata": {},
     "output_type": "execute_result"
    }
   ],
   "source": [
    "y_train.head(1)"
   ]
  },
  {
   "cell_type": "code",
   "execution_count": 53,
   "id": "b382deeb",
   "metadata": {},
   "outputs": [
    {
     "data": {
      "text/plain": [
       "15392    R\n",
       "Name: labels, dtype: object"
      ]
     },
     "execution_count": 53,
     "metadata": {},
     "output_type": "execute_result"
    }
   ],
   "source": [
    "y_test.head(1)"
   ]
  },
  {
   "cell_type": "code",
   "execution_count": 54,
   "id": "fcc4b9c5",
   "metadata": {},
   "outputs": [
    {
     "data": {
      "text/html": [
       "<div>\n",
       "<style scoped>\n",
       "    .dataframe tbody tr th:only-of-type {\n",
       "        vertical-align: middle;\n",
       "    }\n",
       "\n",
       "    .dataframe tbody tr th {\n",
       "        vertical-align: top;\n",
       "    }\n",
       "\n",
       "    .dataframe thead th {\n",
       "        text-align: right;\n",
       "    }\n",
       "</style>\n",
       "<table border=\"1\" class=\"dataframe\">\n",
       "  <thead>\n",
       "    <tr style=\"text-align: right;\">\n",
       "      <th></th>\n",
       "      <th>2-aminoadipate</th>\n",
       "      <th>3-phosphoglycerate</th>\n",
       "      <th>alpha-glycerophosphate</th>\n",
       "      <th>4-pyridoxate</th>\n",
       "      <th>aconitate</th>\n",
       "      <th>adenine</th>\n",
       "      <th>adipate</th>\n",
       "      <th>alpha-ketoglutarate</th>\n",
       "      <th>AMP</th>\n",
       "      <th>citrate</th>\n",
       "      <th>...</th>\n",
       "      <th>AUC_PUBLISHED</th>\n",
       "      <th>upper_limit</th>\n",
       "      <th>ec50</th>\n",
       "      <th>slope</th>\n",
       "      <th>lower_limit</th>\n",
       "      <th>auc</th>\n",
       "      <th>log2.ic50</th>\n",
       "      <th>mse</th>\n",
       "      <th>R2</th>\n",
       "      <th>IC50_normalized</th>\n",
       "    </tr>\n",
       "  </thead>\n",
       "  <tbody>\n",
       "    <tr>\n",
       "      <th>242923</th>\n",
       "      <td>6.339798</td>\n",
       "      <td>6.075754</td>\n",
       "      <td>6.670431</td>\n",
       "      <td>5.875871</td>\n",
       "      <td>6.362974</td>\n",
       "      <td>5.833013</td>\n",
       "      <td>5.535336</td>\n",
       "      <td>5.880482</td>\n",
       "      <td>5.922362</td>\n",
       "      <td>6.266865</td>\n",
       "      <td>...</td>\n",
       "      <td>0.950893</td>\n",
       "      <td>0.966275</td>\n",
       "      <td>2.841194</td>\n",
       "      <td>-8.124305</td>\n",
       "      <td>0.853534</td>\n",
       "      <td>0.945736</td>\n",
       "      <td>NaN</td>\n",
       "      <td>0.001115</td>\n",
       "      <td>0.637917</td>\n",
       "      <td>5.381076</td>\n",
       "    </tr>\n",
       "  </tbody>\n",
       "</table>\n",
       "<p>1 rows × 245 columns</p>\n",
       "</div>"
      ],
      "text/plain": [
       "        2-aminoadipate  3-phosphoglycerate  alpha-glycerophosphate  \\\n",
       "242923        6.339798            6.075754                6.670431   \n",
       "\n",
       "        4-pyridoxate  aconitate   adenine   adipate  alpha-ketoglutarate  \\\n",
       "242923      5.875871   6.362974  5.833013  5.535336             5.880482   \n",
       "\n",
       "             AMP   citrate  ...  AUC_PUBLISHED  upper_limit      ec50  \\\n",
       "242923  5.922362  6.266865  ...       0.950893     0.966275  2.841194   \n",
       "\n",
       "           slope  lower_limit       auc  log2.ic50       mse        R2  \\\n",
       "242923 -8.124305     0.853534  0.945736        NaN  0.001115  0.637917   \n",
       "\n",
       "        IC50_normalized  \n",
       "242923         5.381076  \n",
       "\n",
       "[1 rows x 245 columns]"
      ]
     },
     "execution_count": 54,
     "metadata": {},
     "output_type": "execute_result"
    }
   ],
   "source": [
    "X_train.head(1)"
   ]
  },
  {
   "cell_type": "code",
   "execution_count": 55,
   "id": "dd1da459",
   "metadata": {},
   "outputs": [
    {
     "data": {
      "text/html": [
       "<div>\n",
       "<style scoped>\n",
       "    .dataframe tbody tr th:only-of-type {\n",
       "        vertical-align: middle;\n",
       "    }\n",
       "\n",
       "    .dataframe tbody tr th {\n",
       "        vertical-align: top;\n",
       "    }\n",
       "\n",
       "    .dataframe thead th {\n",
       "        text-align: right;\n",
       "    }\n",
       "</style>\n",
       "<table border=\"1\" class=\"dataframe\">\n",
       "  <thead>\n",
       "    <tr style=\"text-align: right;\">\n",
       "      <th></th>\n",
       "      <th>2-aminoadipate</th>\n",
       "      <th>3-phosphoglycerate</th>\n",
       "      <th>alpha-glycerophosphate</th>\n",
       "      <th>4-pyridoxate</th>\n",
       "      <th>aconitate</th>\n",
       "      <th>adenine</th>\n",
       "      <th>adipate</th>\n",
       "      <th>alpha-ketoglutarate</th>\n",
       "      <th>AMP</th>\n",
       "      <th>citrate</th>\n",
       "      <th>...</th>\n",
       "      <th>AUC_PUBLISHED</th>\n",
       "      <th>upper_limit</th>\n",
       "      <th>ec50</th>\n",
       "      <th>slope</th>\n",
       "      <th>lower_limit</th>\n",
       "      <th>auc</th>\n",
       "      <th>log2.ic50</th>\n",
       "      <th>mse</th>\n",
       "      <th>R2</th>\n",
       "      <th>IC50_normalized</th>\n",
       "    </tr>\n",
       "  </thead>\n",
       "  <tbody>\n",
       "    <tr>\n",
       "      <th>15392</th>\n",
       "      <td>5.734549</td>\n",
       "      <td>5.741243</td>\n",
       "      <td>5.726934</td>\n",
       "      <td>5.558014</td>\n",
       "      <td>5.837319</td>\n",
       "      <td>6.174542</td>\n",
       "      <td>5.922278</td>\n",
       "      <td>5.751083</td>\n",
       "      <td>5.778905</td>\n",
       "      <td>5.675493</td>\n",
       "      <td>...</td>\n",
       "      <td>0.868319</td>\n",
       "      <td>0.914686</td>\n",
       "      <td>227.581563</td>\n",
       "      <td>-1.289931</td>\n",
       "      <td>-6.186109</td>\n",
       "      <td>0.872525</td>\n",
       "      <td>NaN</td>\n",
       "      <td>0.000811</td>\n",
       "      <td>0.91381</td>\n",
       "      <td>4.379309</td>\n",
       "    </tr>\n",
       "  </tbody>\n",
       "</table>\n",
       "<p>1 rows × 245 columns</p>\n",
       "</div>"
      ],
      "text/plain": [
       "       2-aminoadipate  3-phosphoglycerate  alpha-glycerophosphate  \\\n",
       "15392        5.734549            5.741243                5.726934   \n",
       "\n",
       "       4-pyridoxate  aconitate   adenine   adipate  alpha-ketoglutarate  \\\n",
       "15392      5.558014   5.837319  6.174542  5.922278             5.751083   \n",
       "\n",
       "            AMP   citrate  ...  AUC_PUBLISHED  upper_limit        ec50  \\\n",
       "15392  5.778905  5.675493  ...       0.868319     0.914686  227.581563   \n",
       "\n",
       "          slope  lower_limit       auc  log2.ic50       mse       R2  \\\n",
       "15392 -1.289931    -6.186109  0.872525        NaN  0.000811  0.91381   \n",
       "\n",
       "       IC50_normalized  \n",
       "15392         4.379309  \n",
       "\n",
       "[1 rows x 245 columns]"
      ]
     },
     "execution_count": 55,
     "metadata": {},
     "output_type": "execute_result"
    }
   ],
   "source": [
    "X_test.head(1)"
   ]
  },
  {
   "cell_type": "code",
   "execution_count": 56,
   "id": "9edbd96e",
   "metadata": {},
   "outputs": [
    {
     "data": {
      "text/plain": [
       "((151131, 245), (151131,))"
      ]
     },
     "execution_count": 56,
     "metadata": {},
     "output_type": "execute_result"
    }
   ],
   "source": [
    "X_train.shape, y_train.shape"
   ]
  },
  {
   "cell_type": "code",
   "execution_count": 57,
   "id": "2a5a0f70",
   "metadata": {},
   "outputs": [
    {
     "data": {
      "text/plain": [
       "((100755, 245), (100755,))"
      ]
     },
     "execution_count": 57,
     "metadata": {},
     "output_type": "execute_result"
    }
   ],
   "source": [
    "X_test.shape, y_test.shape"
   ]
  },
  {
   "cell_type": "code",
   "execution_count": 58,
   "id": "af7cf0b5",
   "metadata": {},
   "outputs": [
    {
     "ename": "ValueError",
     "evalue": "Input contains NaN, infinity or a value too large for dtype('float64').",
     "output_type": "error",
     "traceback": [
      "\u001b[1;31m---------------------------------------------------------------------------\u001b[0m",
      "\u001b[1;31mValueError\u001b[0m                                Traceback (most recent call last)",
      "\u001b[1;32m~\\AppData\\Local\\Temp/ipykernel_3660/3947415889.py\u001b[0m in \u001b[0;36m<module>\u001b[1;34m\u001b[0m\n\u001b[1;32m----> 1\u001b[1;33m \u001b[0mclf\u001b[0m \u001b[1;33m=\u001b[0m \u001b[0msvm\u001b[0m\u001b[1;33m.\u001b[0m\u001b[0mSVC\u001b[0m\u001b[1;33m(\u001b[0m\u001b[0mkernel\u001b[0m\u001b[1;33m=\u001b[0m\u001b[1;34m\"linear\"\u001b[0m\u001b[1;33m,\u001b[0m \u001b[0mC\u001b[0m\u001b[1;33m=\u001b[0m\u001b[1;36m1\u001b[0m\u001b[1;33m)\u001b[0m\u001b[1;33m.\u001b[0m\u001b[0mfit\u001b[0m\u001b[1;33m(\u001b[0m\u001b[0mX_train\u001b[0m\u001b[1;33m,\u001b[0m \u001b[0my_train\u001b[0m\u001b[1;33m)\u001b[0m\u001b[1;33m\u001b[0m\u001b[1;33m\u001b[0m\u001b[0m\n\u001b[0m",
      "\u001b[1;32m~\\anaconda3\\lib\\site-packages\\sklearn\\svm\\_base.py\u001b[0m in \u001b[0;36mfit\u001b[1;34m(self, X, y, sample_weight)\u001b[0m\n\u001b[0;32m    167\u001b[0m             \u001b[0mcheck_consistent_length\u001b[0m\u001b[1;33m(\u001b[0m\u001b[0mX\u001b[0m\u001b[1;33m,\u001b[0m \u001b[0my\u001b[0m\u001b[1;33m)\u001b[0m\u001b[1;33m\u001b[0m\u001b[1;33m\u001b[0m\u001b[0m\n\u001b[0;32m    168\u001b[0m         \u001b[1;32melse\u001b[0m\u001b[1;33m:\u001b[0m\u001b[1;33m\u001b[0m\u001b[1;33m\u001b[0m\u001b[0m\n\u001b[1;32m--> 169\u001b[1;33m             X, y = self._validate_data(X, y, dtype=np.float64,\n\u001b[0m\u001b[0;32m    170\u001b[0m                                        \u001b[0morder\u001b[0m\u001b[1;33m=\u001b[0m\u001b[1;34m'C'\u001b[0m\u001b[1;33m,\u001b[0m \u001b[0maccept_sparse\u001b[0m\u001b[1;33m=\u001b[0m\u001b[1;34m'csr'\u001b[0m\u001b[1;33m,\u001b[0m\u001b[1;33m\u001b[0m\u001b[1;33m\u001b[0m\u001b[0m\n\u001b[0;32m    171\u001b[0m                                        accept_large_sparse=False)\n",
      "\u001b[1;32m~\\anaconda3\\lib\\site-packages\\sklearn\\base.py\u001b[0m in \u001b[0;36m_validate_data\u001b[1;34m(self, X, y, reset, validate_separately, **check_params)\u001b[0m\n\u001b[0;32m    431\u001b[0m                 \u001b[0my\u001b[0m \u001b[1;33m=\u001b[0m \u001b[0mcheck_array\u001b[0m\u001b[1;33m(\u001b[0m\u001b[0my\u001b[0m\u001b[1;33m,\u001b[0m \u001b[1;33m**\u001b[0m\u001b[0mcheck_y_params\u001b[0m\u001b[1;33m)\u001b[0m\u001b[1;33m\u001b[0m\u001b[1;33m\u001b[0m\u001b[0m\n\u001b[0;32m    432\u001b[0m             \u001b[1;32melse\u001b[0m\u001b[1;33m:\u001b[0m\u001b[1;33m\u001b[0m\u001b[1;33m\u001b[0m\u001b[0m\n\u001b[1;32m--> 433\u001b[1;33m                 \u001b[0mX\u001b[0m\u001b[1;33m,\u001b[0m \u001b[0my\u001b[0m \u001b[1;33m=\u001b[0m \u001b[0mcheck_X_y\u001b[0m\u001b[1;33m(\u001b[0m\u001b[0mX\u001b[0m\u001b[1;33m,\u001b[0m \u001b[0my\u001b[0m\u001b[1;33m,\u001b[0m \u001b[1;33m**\u001b[0m\u001b[0mcheck_params\u001b[0m\u001b[1;33m)\u001b[0m\u001b[1;33m\u001b[0m\u001b[1;33m\u001b[0m\u001b[0m\n\u001b[0m\u001b[0;32m    434\u001b[0m             \u001b[0mout\u001b[0m \u001b[1;33m=\u001b[0m \u001b[0mX\u001b[0m\u001b[1;33m,\u001b[0m \u001b[0my\u001b[0m\u001b[1;33m\u001b[0m\u001b[1;33m\u001b[0m\u001b[0m\n\u001b[0;32m    435\u001b[0m \u001b[1;33m\u001b[0m\u001b[0m\n",
      "\u001b[1;32m~\\anaconda3\\lib\\site-packages\\sklearn\\utils\\validation.py\u001b[0m in \u001b[0;36minner_f\u001b[1;34m(*args, **kwargs)\u001b[0m\n\u001b[0;32m     61\u001b[0m             \u001b[0mextra_args\u001b[0m \u001b[1;33m=\u001b[0m \u001b[0mlen\u001b[0m\u001b[1;33m(\u001b[0m\u001b[0margs\u001b[0m\u001b[1;33m)\u001b[0m \u001b[1;33m-\u001b[0m \u001b[0mlen\u001b[0m\u001b[1;33m(\u001b[0m\u001b[0mall_args\u001b[0m\u001b[1;33m)\u001b[0m\u001b[1;33m\u001b[0m\u001b[1;33m\u001b[0m\u001b[0m\n\u001b[0;32m     62\u001b[0m             \u001b[1;32mif\u001b[0m \u001b[0mextra_args\u001b[0m \u001b[1;33m<=\u001b[0m \u001b[1;36m0\u001b[0m\u001b[1;33m:\u001b[0m\u001b[1;33m\u001b[0m\u001b[1;33m\u001b[0m\u001b[0m\n\u001b[1;32m---> 63\u001b[1;33m                 \u001b[1;32mreturn\u001b[0m \u001b[0mf\u001b[0m\u001b[1;33m(\u001b[0m\u001b[1;33m*\u001b[0m\u001b[0margs\u001b[0m\u001b[1;33m,\u001b[0m \u001b[1;33m**\u001b[0m\u001b[0mkwargs\u001b[0m\u001b[1;33m)\u001b[0m\u001b[1;33m\u001b[0m\u001b[1;33m\u001b[0m\u001b[0m\n\u001b[0m\u001b[0;32m     64\u001b[0m \u001b[1;33m\u001b[0m\u001b[0m\n\u001b[0;32m     65\u001b[0m             \u001b[1;31m# extra_args > 0\u001b[0m\u001b[1;33m\u001b[0m\u001b[1;33m\u001b[0m\u001b[1;33m\u001b[0m\u001b[0m\n",
      "\u001b[1;32m~\\anaconda3\\lib\\site-packages\\sklearn\\utils\\validation.py\u001b[0m in \u001b[0;36mcheck_X_y\u001b[1;34m(X, y, accept_sparse, accept_large_sparse, dtype, order, copy, force_all_finite, ensure_2d, allow_nd, multi_output, ensure_min_samples, ensure_min_features, y_numeric, estimator)\u001b[0m\n\u001b[0;32m    869\u001b[0m         \u001b[1;32mraise\u001b[0m \u001b[0mValueError\u001b[0m\u001b[1;33m(\u001b[0m\u001b[1;34m\"y cannot be None\"\u001b[0m\u001b[1;33m)\u001b[0m\u001b[1;33m\u001b[0m\u001b[1;33m\u001b[0m\u001b[0m\n\u001b[0;32m    870\u001b[0m \u001b[1;33m\u001b[0m\u001b[0m\n\u001b[1;32m--> 871\u001b[1;33m     X = check_array(X, accept_sparse=accept_sparse,\n\u001b[0m\u001b[0;32m    872\u001b[0m                     \u001b[0maccept_large_sparse\u001b[0m\u001b[1;33m=\u001b[0m\u001b[0maccept_large_sparse\u001b[0m\u001b[1;33m,\u001b[0m\u001b[1;33m\u001b[0m\u001b[1;33m\u001b[0m\u001b[0m\n\u001b[0;32m    873\u001b[0m                     \u001b[0mdtype\u001b[0m\u001b[1;33m=\u001b[0m\u001b[0mdtype\u001b[0m\u001b[1;33m,\u001b[0m \u001b[0morder\u001b[0m\u001b[1;33m=\u001b[0m\u001b[0morder\u001b[0m\u001b[1;33m,\u001b[0m \u001b[0mcopy\u001b[0m\u001b[1;33m=\u001b[0m\u001b[0mcopy\u001b[0m\u001b[1;33m,\u001b[0m\u001b[1;33m\u001b[0m\u001b[1;33m\u001b[0m\u001b[0m\n",
      "\u001b[1;32m~\\anaconda3\\lib\\site-packages\\sklearn\\utils\\validation.py\u001b[0m in \u001b[0;36minner_f\u001b[1;34m(*args, **kwargs)\u001b[0m\n\u001b[0;32m     61\u001b[0m             \u001b[0mextra_args\u001b[0m \u001b[1;33m=\u001b[0m \u001b[0mlen\u001b[0m\u001b[1;33m(\u001b[0m\u001b[0margs\u001b[0m\u001b[1;33m)\u001b[0m \u001b[1;33m-\u001b[0m \u001b[0mlen\u001b[0m\u001b[1;33m(\u001b[0m\u001b[0mall_args\u001b[0m\u001b[1;33m)\u001b[0m\u001b[1;33m\u001b[0m\u001b[1;33m\u001b[0m\u001b[0m\n\u001b[0;32m     62\u001b[0m             \u001b[1;32mif\u001b[0m \u001b[0mextra_args\u001b[0m \u001b[1;33m<=\u001b[0m \u001b[1;36m0\u001b[0m\u001b[1;33m:\u001b[0m\u001b[1;33m\u001b[0m\u001b[1;33m\u001b[0m\u001b[0m\n\u001b[1;32m---> 63\u001b[1;33m                 \u001b[1;32mreturn\u001b[0m \u001b[0mf\u001b[0m\u001b[1;33m(\u001b[0m\u001b[1;33m*\u001b[0m\u001b[0margs\u001b[0m\u001b[1;33m,\u001b[0m \u001b[1;33m**\u001b[0m\u001b[0mkwargs\u001b[0m\u001b[1;33m)\u001b[0m\u001b[1;33m\u001b[0m\u001b[1;33m\u001b[0m\u001b[0m\n\u001b[0m\u001b[0;32m     64\u001b[0m \u001b[1;33m\u001b[0m\u001b[0m\n\u001b[0;32m     65\u001b[0m             \u001b[1;31m# extra_args > 0\u001b[0m\u001b[1;33m\u001b[0m\u001b[1;33m\u001b[0m\u001b[1;33m\u001b[0m\u001b[0m\n",
      "\u001b[1;32m~\\anaconda3\\lib\\site-packages\\sklearn\\utils\\validation.py\u001b[0m in \u001b[0;36mcheck_array\u001b[1;34m(array, accept_sparse, accept_large_sparse, dtype, order, copy, force_all_finite, ensure_2d, allow_nd, ensure_min_samples, ensure_min_features, estimator)\u001b[0m\n\u001b[0;32m    718\u001b[0m \u001b[1;33m\u001b[0m\u001b[0m\n\u001b[0;32m    719\u001b[0m         \u001b[1;32mif\u001b[0m \u001b[0mforce_all_finite\u001b[0m\u001b[1;33m:\u001b[0m\u001b[1;33m\u001b[0m\u001b[1;33m\u001b[0m\u001b[0m\n\u001b[1;32m--> 720\u001b[1;33m             _assert_all_finite(array,\n\u001b[0m\u001b[0;32m    721\u001b[0m                                allow_nan=force_all_finite == 'allow-nan')\n\u001b[0;32m    722\u001b[0m \u001b[1;33m\u001b[0m\u001b[0m\n",
      "\u001b[1;32m~\\anaconda3\\lib\\site-packages\\sklearn\\utils\\validation.py\u001b[0m in \u001b[0;36m_assert_all_finite\u001b[1;34m(X, allow_nan, msg_dtype)\u001b[0m\n\u001b[0;32m    101\u001b[0m                 not allow_nan and not np.isfinite(X).all()):\n\u001b[0;32m    102\u001b[0m             \u001b[0mtype_err\u001b[0m \u001b[1;33m=\u001b[0m \u001b[1;34m'infinity'\u001b[0m \u001b[1;32mif\u001b[0m \u001b[0mallow_nan\u001b[0m \u001b[1;32melse\u001b[0m \u001b[1;34m'NaN, infinity'\u001b[0m\u001b[1;33m\u001b[0m\u001b[1;33m\u001b[0m\u001b[0m\n\u001b[1;32m--> 103\u001b[1;33m             raise ValueError(\n\u001b[0m\u001b[0;32m    104\u001b[0m                     \u001b[0mmsg_err\u001b[0m\u001b[1;33m.\u001b[0m\u001b[0mformat\u001b[0m\u001b[1;33m\u001b[0m\u001b[1;33m\u001b[0m\u001b[0m\n\u001b[0;32m    105\u001b[0m                     (type_err,\n",
      "\u001b[1;31mValueError\u001b[0m: Input contains NaN, infinity or a value too large for dtype('float64')."
     ]
    }
   ],
   "source": [
    "clf = svm.SVC(kernel=\"linear\", C=1).fit(X_train, y_train)"
   ]
  },
  {
   "cell_type": "code",
   "execution_count": null,
   "id": "4c981238",
   "metadata": {},
   "outputs": [],
   "source": []
  }
 ],
 "metadata": {
  "kernelspec": {
   "display_name": "Python 3 (ipykernel)",
   "language": "python",
   "name": "python3"
  },
  "language_info": {
   "codemirror_mode": {
    "name": "ipython",
    "version": 3
   },
   "file_extension": ".py",
   "mimetype": "text/x-python",
   "name": "python",
   "nbconvert_exporter": "python",
   "pygments_lexer": "ipython3",
   "version": "3.8.8"
  }
 },
 "nbformat": 4,
 "nbformat_minor": 5
}
